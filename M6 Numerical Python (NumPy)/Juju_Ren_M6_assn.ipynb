{
 "cells": [
  {
   "cell_type": "markdown",
   "id": "9c1087b8",
   "metadata": {},
   "source": [
    "## 1. (10 Points) Write a Python/NumPy code block that finds the distinct/unique common items between these two\n",
    "arrays:\n",
    "a = np.array([1, 2, 3, 2, 3, 4, 3, 4, 5, 6])\n",
    "b = np.array([7, 2, 10, 2, 7, 4, 9, 4, 9, 8])\n",
    "Your output should contain only the distinct overlapping values. For example, if a 2 is found in both array a and array b,\n",
    "your output should contain only one 2 even if array a contains more than one 2 within it.\n"
   ]
  },
  {
   "cell_type": "code",
   "execution_count": 2,
   "id": "6d259255",
   "metadata": {},
   "outputs": [
    {
     "name": "stdout",
     "output_type": "stream",
     "text": [
      "[2 4]\n"
     ]
    }
   ],
   "source": [
    "import numpy as np\n",
    "a = np.array([1, 2, 3, 2, 3, 4, 3, 4, 5, 6]) \n",
    "b = np.array([7, 2, 10, 2, 7, 4, 9, 4, 9, 8])\n",
    "print(np.intersect1d(a,b))"
   ]
  },
  {
   "cell_type": "markdown",
   "id": "9d420726",
   "metadata": {},
   "source": [
    "## 2. (10 Points) Create the following 5x3 array using knowledge you have of Python’s / NumPy’s sequencing functionality\n",
    "so that you do not need to explicitly key in every integer value.\n",
    "1 6 11\n",
    "2 7 12\n",
    "3 8 13\n",
    "4 9 14\n",
    "5 10 15\n"
   ]
  },
  {
   "cell_type": "code",
   "execution_count": 3,
   "id": "5f054831",
   "metadata": {},
   "outputs": [
    {
     "data": {
      "text/plain": [
       "array([[ 1,  6, 11],\n",
       "       [ 2,  7, 12],\n",
       "       [ 3,  8, 13],\n",
       "       [ 4,  9, 14],\n",
       "       [ 5, 10, 15]])"
      ]
     },
     "execution_count": 3,
     "metadata": {},
     "output_type": "execute_result"
    }
   ],
   "source": [
    "data = np.arange(1,16).reshape(3,5)\n",
    "data.T"
   ]
  },
  {
   "cell_type": "markdown",
   "id": "7322dbf6",
   "metadata": {},
   "source": [
    "## 3. (10 Points) The process of transforming a multidimensional array into a unidimensional array is referred to as\n",
    "“flattening”. Transform the 5x3 array shown above in Problem 2 into a unidimensional array such that the sequence of\n",
    "values contained within the array is as follows: 1, 2, 3, 4, 5, 6, 7, 8, 9, 10, 11, 12, 13, 14, 15\n"
   ]
  },
  {
   "cell_type": "code",
   "execution_count": 4,
   "id": "3682f9b2",
   "metadata": {},
   "outputs": [
    {
     "name": "stdout",
     "output_type": "stream",
     "text": [
      "1\n",
      "2\n",
      "3\n",
      "4\n",
      "5\n",
      "6\n",
      "7\n",
      "8\n",
      "9\n",
      "10\n",
      "11\n",
      "12\n",
      "13\n",
      "14\n",
      "15\n"
     ]
    }
   ],
   "source": [
    "for x in np.nditer(data):\n",
    "    print(x)"
   ]
  },
  {
   "cell_type": "markdown",
   "id": "2aa59b92",
   "metadata": {},
   "source": [
    "## 4. (15 Points) Transform the 2-D array shown in Problem 2 into a 3 dimensional array such that the first column\n",
    "becomes the first dimension of the 3-D array, the second column becomes the second dimension of the 3-D array, and\n",
    "the third column becomes the third dimension of the 3-D array."
   ]
  },
  {
   "cell_type": "code",
   "execution_count": 5,
   "id": "939e03a2",
   "metadata": {},
   "outputs": [
    {
     "data": {
      "text/plain": [
       "array([[[ 1,  2,  3]],\n",
       "\n",
       "       [[ 4,  5,  6]],\n",
       "\n",
       "       [[ 7,  8,  9]],\n",
       "\n",
       "       [[10, 11, 12]],\n",
       "\n",
       "       [[13, 14, 15]]])"
      ]
     },
     "execution_count": 5,
     "metadata": {},
     "output_type": "execute_result"
    }
   ],
   "source": [
    "d = data.reshape(5,1,3)\n",
    "d"
   ]
  },
  {
   "cell_type": "markdown",
   "id": "ce6350fd",
   "metadata": {},
   "source": [
    "## 5. (15 Points) Transform the 3-D array you created in Problem 4 back to the 2-dimensional format shown in Problem 2"
   ]
  },
  {
   "cell_type": "code",
   "execution_count": 6,
   "id": "a13024d8",
   "metadata": {},
   "outputs": [
    {
     "data": {
      "text/plain": [
       "array([[ 1,  2,  3],\n",
       "       [ 4,  5,  6],\n",
       "       [ 7,  8,  9],\n",
       "       [10, 11, 12],\n",
       "       [13, 14, 15]])"
      ]
     },
     "execution_count": 6,
     "metadata": {},
     "output_type": "execute_result"
    }
   ],
   "source": [
    "e = d.reshape(5,3)\n",
    "e"
   ]
  },
  {
   "cell_type": "markdown",
   "id": "39ff9253",
   "metadata": {},
   "source": [
    "## 6. (10 Points) You are given the following two arrays:\n",
    "a = np.array([12, 5, 7, 15, 3, 1, 8])\n",
    "b = np.array([14, 6, 3, 11, 19, 12, 5])\n",
    "Write a Python/Numpy code block that removes from array a any items that are also present in array b."
   ]
  },
  {
   "cell_type": "code",
   "execution_count": 7,
   "id": "7b14da72",
   "metadata": {},
   "outputs": [
    {
     "name": "stdout",
     "output_type": "stream",
     "text": [
      "[ 1  7  8 15]\n"
     ]
    }
   ],
   "source": [
    "a = np.array([12, 5, 7, 15, 3, 1, 8]) \n",
    "b = np.array([14, 6, 3, 11, 19, 12, 5])\n",
    "result = np.setdiff1d(a, b)\n",
    "print(result)"
   ]
  },
  {
   "cell_type": "markdown",
   "id": "49cb9013",
   "metadata": {},
   "source": [
    "## 7. (30 Points)  This code will read the contents of the provided data file into a NumPy ndarray object. \n",
    "Execute the code within your Jupyter Notebook. If successful, the output of the type(nyc_water) function should be: numpy.ndarray\n",
    "Using the nyc_water array you’ve created, answer the following questions using NumPy’s slicing, methods, and\n",
    "functions\n"
   ]
  },
  {
   "cell_type": "code",
   "execution_count": 10,
   "id": "4b3402ed",
   "metadata": {},
   "outputs": [
    {
     "data": {
      "text/plain": [
       "numpy.ndarray"
      ]
     },
     "execution_count": 10,
     "metadata": {},
     "output_type": "execute_result"
    }
   ],
   "source": [
    "import pandas\n",
    "import numpy as np\n",
    "# supress scientific notation\n",
    "np.set_printoptions(suppress = True)\n",
    "# read the data file from GitHub and convert to a NumPy ndarray object\n",
    "# be sure to replace the ‘link_to_raw_copy of data file in your Github Repository’ placeholder shown below\n",
    "# with a link to the “raw” version of the file you pushed to your online GitHub repository\n",
    "nyc_water = pandas.read_csv('Module6_Data.csv').to_numpy()\n",
    "# verify you have an ndarray object\n",
    "type(nyc_water)\n",
    "# nyc_water"
   ]
  },
  {
   "cell_type": "markdown",
   "id": "9ac687a4",
   "metadata": {},
   "source": [
    "### 7.1 What is the maximum yearly NYC consumption of water in millions of gallons per day?\n"
   ]
  },
  {
   "cell_type": "code",
   "execution_count": 17,
   "id": "e5f19480",
   "metadata": {},
   "outputs": [
    {
     "data": {
      "text/plain": [
       "1512.0"
      ]
     },
     "execution_count": 17,
     "metadata": {},
     "output_type": "execute_result"
    }
   ],
   "source": [
    "# print(nyc_water.shape)\n",
    "nyc_consum = nyc_water[:,2]\n",
    "np.amax(nyc_consum)"
   ]
  },
  {
   "cell_type": "markdown",
   "id": "0325e53b",
   "metadata": {},
   "source": [
    "### 7.2 How many calendar years are represented within this data set? NumPy's shape command is one way to find out."
   ]
  },
  {
   "cell_type": "code",
   "execution_count": 26,
   "id": "551cd6ca",
   "metadata": {},
   "outputs": [
    {
     "name": "stdout",
     "output_type": "stream",
     "text": [
      "begining: 1979.0 ending: 2017.0 Total years= 39 years\n"
     ]
    }
   ],
   "source": [
    "print('begining:',nyc_water[0,0],'ending:',nyc_water[nyc_water.shape[0]-1,0],'Total years=',int(nyc_water[38,0]-nyc_water[0,0]+1),'years')"
   ]
  },
  {
   "cell_type": "markdown",
   "id": "e2e45ea0",
   "metadata": {},
   "source": [
    "### 7.3 What is the mean and the standard deviation of the per capita daily water consumption?\n"
   ]
  },
  {
   "cell_type": "code",
   "execution_count": 31,
   "id": "6c1ae44c",
   "metadata": {},
   "outputs": [
    {
     "name": "stdout",
     "output_type": "stream",
     "text": [
      "mean = 160.30769230769232 Standard Deviation =  31.51894330370624\n"
     ]
    }
   ],
   "source": [
    "nyc_capita = nyc_water[:,3]\n",
    "print('mean =', np.mean(nyc_capita), 'Standard Deviation = ', np.std(nyc_capita))"
   ]
  },
  {
   "cell_type": "markdown",
   "id": "98f24eab",
   "metadata": {},
   "source": [
    "### 7.4 What is the increase or decrease in population from year to year? Use NumPy's `diff` function to create an array of differences and save that to a variable called \"pop_diff\", then print that variable to the screen."
   ]
  },
  {
   "cell_type": "code",
   "execution_count": 39,
   "id": "5d20dea0",
   "metadata": {},
   "outputs": [
    {
     "data": {
      "text/plain": [
       "array([-28169.01408451,   5253.14046441,  48035.66453051,  68207.85171301,\n",
       "        24829.57655371,  68965.51724138,  16988.41698842,  42474.96227192,\n",
       "         1356.98849073,  -6220.51733969,   -107.95055864,  41703.36217168,\n",
       "        58307.84356565,  79013.37792642,  65685.43188655,  34049.31612406,\n",
       "        60916.13956335,  97537.69803398,  90322.58064516,  63027.29528536,\n",
       "        71811.41439206,  -2580.64516129,  53900.70921986, -11988.94451397,\n",
       "        42647.05882353, -13636.83771381,  27562.86266924,  32902.01282902,\n",
       "         1946.47201946,  57723.57723577,  -9954.54836438, 119710.64592536,\n",
       "        38856.41335752, 114952.42725189, -13943.8826378 , 110169.49152542,\n",
       "        13255.10647544,  46332.21850613])"
      ]
     },
     "execution_count": 39,
     "metadata": {},
     "output_type": "execute_result"
    }
   ],
   "source": [
    "nyc_pop = nyc_consum/nyc_capita\n",
    "pop_diff = np.diff(nyc_pop)*1000000\n",
    "pop_diff"
   ]
  },
  {
   "cell_type": "code",
   "execution_count": null,
   "id": "f14268c3",
   "metadata": {},
   "outputs": [],
   "source": []
  },
  {
   "cell_type": "code",
   "execution_count": null,
   "id": "31b25523",
   "metadata": {},
   "outputs": [],
   "source": []
  }
 ],
 "metadata": {
  "kernelspec": {
   "display_name": "Python 3 (ipykernel)",
   "language": "python",
   "name": "python3"
  },
  "language_info": {
   "codemirror_mode": {
    "name": "ipython",
    "version": 3
   },
   "file_extension": ".py",
   "mimetype": "text/x-python",
   "name": "python",
   "nbconvert_exporter": "python",
   "pygments_lexer": "ipython3",
   "version": "3.9.12"
  }
 },
 "nbformat": 4,
 "nbformat_minor": 5
}
