{
 "cells": [
  {
   "cell_type": "markdown",
   "id": "77577374",
   "metadata": {},
   "source": [
    "## Part I: Working with HTML & JSON"
   ]
  },
  {
   "cell_type": "markdown",
   "id": "631439ec",
   "metadata": {},
   "source": [
    "### Step 1: generate files in html and json version"
   ]
  },
  {
   "cell_type": "markdown",
   "id": "a8e18f53",
   "metadata": {},
   "source": [
    "Files have been uploaded in github and they can be accessed at:"
   ]
  },
  {
   "cell_type": "markdown",
   "id": "cf09d5a8",
   "metadata": {},
   "source": [
    "https://github.com/JuJu-Ren/AIM-5001/blob/main/M9/books.html\n",
    "<br>https://github.com/JuJu-Ren/AIM-5001/blob/main/M9/books.json"
   ]
  },
  {
   "cell_type": "markdown",
   "id": "8ba14602",
   "metadata": {},
   "source": [
    "### Step 2: Read both files in pandas data frames and compare if two data frames are identical"
   ]
  },
  {
   "cell_type": "markdown",
   "id": "33e28023",
   "metadata": {},
   "source": [
    "### Json Data"
   ]
  },
  {
   "cell_type": "code",
   "execution_count": 14,
   "id": "3e9a1f88",
   "metadata": {
    "scrolled": true
   },
   "outputs": [
    {
     "data": {
      "text/html": [
       "<div>\n",
       "<style scoped>\n",
       "    .dataframe tbody tr th:only-of-type {\n",
       "        vertical-align: middle;\n",
       "    }\n",
       "\n",
       "    .dataframe tbody tr th {\n",
       "        vertical-align: top;\n",
       "    }\n",
       "\n",
       "    .dataframe thead th {\n",
       "        text-align: right;\n",
       "    }\n",
       "</style>\n",
       "<table border=\"1\" class=\"dataframe\">\n",
       "  <thead>\n",
       "    <tr style=\"text-align: right;\">\n",
       "      <th></th>\n",
       "      <th>Title</th>\n",
       "      <th>Authors</th>\n",
       "      <th>Publisher(s)</th>\n",
       "      <th>Originally published</th>\n",
       "      <th>Genres</th>\n",
       "    </tr>\n",
       "  </thead>\n",
       "  <tbody>\n",
       "    <tr>\n",
       "      <th>0</th>\n",
       "      <td>Nineteen Eighty-Four</td>\n",
       "      <td>George Orweel</td>\n",
       "      <td>Secker &amp; Warburg</td>\n",
       "      <td>June 8, 1949</td>\n",
       "      <td>Science Fiction, Dystopian Fiction, Social Sci...</td>\n",
       "    </tr>\n",
       "    <tr>\n",
       "      <th>1</th>\n",
       "      <td>The Moon and Sixpence</td>\n",
       "      <td>William Somerset Maugham</td>\n",
       "      <td>William Heinemann</td>\n",
       "      <td>April 15, 1919</td>\n",
       "      <td>Novel, Psychological Fiction</td>\n",
       "    </tr>\n",
       "    <tr>\n",
       "      <th>2</th>\n",
       "      <td>Feature Engineering for Machine Learning</td>\n",
       "      <td>Alice Zheng, Amanda Casari</td>\n",
       "      <td>O'Reilly Media, Inc.</td>\n",
       "      <td>June 2016</td>\n",
       "      <td>Computers</td>\n",
       "    </tr>\n",
       "  </tbody>\n",
       "</table>\n",
       "</div>"
      ],
      "text/plain": [
       "                                      Title                     Authors  \\\n",
       "0                      Nineteen Eighty-Four               George Orweel   \n",
       "1                     The Moon and Sixpence    William Somerset Maugham   \n",
       "2  Feature Engineering for Machine Learning  Alice Zheng, Amanda Casari   \n",
       "\n",
       "           Publisher(s) Originally published  \\\n",
       "0      Secker & Warburg         June 8, 1949   \n",
       "1     William Heinemann       April 15, 1919   \n",
       "2  O'Reilly Media, Inc.            June 2016   \n",
       "\n",
       "                                              Genres  \n",
       "0  Science Fiction, Dystopian Fiction, Social Sci...  \n",
       "1                       Novel, Psychological Fiction  \n",
       "2                                          Computers  "
      ]
     },
     "execution_count": 14,
     "metadata": {},
     "output_type": "execute_result"
    }
   ],
   "source": [
    "#import necessary packages\n",
    "import pandas as pd\n",
    "import json\n",
    "\n",
    "#use read_json to load the data into a daraframe\n",
    "df_js = pd.read_json('https://raw.githubusercontent.com/JuJu-Ren/AIM-5001/main/M9/books.json')\n",
    "def list_str(s):\n",
    "    if isinstance(s, list):\n",
    "        return ', '.join(s)\n",
    "    else:\n",
    "        return s\n",
    "df_js['Authors'] = df_js['Authors'].apply(lambda x: list_str(x))\n",
    "df_js['Genres'] = df_js['Genres'].apply(lambda x: list_str(x))\n",
    "df_js"
   ]
  },
  {
   "cell_type": "markdown",
   "id": "46563669",
   "metadata": {},
   "source": [
    "#### HTML Data"
   ]
  },
  {
   "cell_type": "code",
   "execution_count": 16,
   "id": "7aa866aa",
   "metadata": {},
   "outputs": [
    {
     "data": {
      "text/html": [
       "<div>\n",
       "<style scoped>\n",
       "    .dataframe tbody tr th:only-of-type {\n",
       "        vertical-align: middle;\n",
       "    }\n",
       "\n",
       "    .dataframe tbody tr th {\n",
       "        vertical-align: top;\n",
       "    }\n",
       "\n",
       "    .dataframe thead th {\n",
       "        text-align: right;\n",
       "    }\n",
       "</style>\n",
       "<table border=\"1\" class=\"dataframe\">\n",
       "  <thead>\n",
       "    <tr style=\"text-align: right;\">\n",
       "      <th></th>\n",
       "      <th>Title</th>\n",
       "      <th>Authors</th>\n",
       "      <th>Publisher(s)</th>\n",
       "      <th>Originally published</th>\n",
       "      <th>Genres</th>\n",
       "    </tr>\n",
       "  </thead>\n",
       "  <tbody>\n",
       "    <tr>\n",
       "      <th>0</th>\n",
       "      <td>Nineteen Eighty-Four</td>\n",
       "      <td>George Orweel</td>\n",
       "      <td>Secker &amp; Warburg</td>\n",
       "      <td>June 8, 1949</td>\n",
       "      <td>Science Fiction, Dystopian Fiction, Social Sci...</td>\n",
       "    </tr>\n",
       "    <tr>\n",
       "      <th>1</th>\n",
       "      <td>The Moon and Sixpence</td>\n",
       "      <td>William Somerset Maugham</td>\n",
       "      <td>William Heinemann</td>\n",
       "      <td>April 15, 1919</td>\n",
       "      <td>Novel, Psychological Fiction</td>\n",
       "    </tr>\n",
       "    <tr>\n",
       "      <th>2</th>\n",
       "      <td>Feature Engineering for Machine Learning</td>\n",
       "      <td>Alice Zheng and Amanda Casari</td>\n",
       "      <td>O'Reilly Media, Inc</td>\n",
       "      <td>June 2016</td>\n",
       "      <td>Computers</td>\n",
       "    </tr>\n",
       "  </tbody>\n",
       "</table>\n",
       "</div>"
      ],
      "text/plain": [
       "                                      Title                        Authors  \\\n",
       "0                      Nineteen Eighty-Four                  George Orweel   \n",
       "1                     The Moon and Sixpence       William Somerset Maugham   \n",
       "2  Feature Engineering for Machine Learning  Alice Zheng and Amanda Casari   \n",
       "\n",
       "          Publisher(s) Originally published  \\\n",
       "0     Secker & Warburg         June 8, 1949   \n",
       "1    William Heinemann       April 15, 1919   \n",
       "2  O'Reilly Media, Inc            June 2016   \n",
       "\n",
       "                                              Genres  \n",
       "0  Science Fiction, Dystopian Fiction, Social Sci...  \n",
       "1                       Novel, Psychological Fiction  \n",
       "2                                          Computers  "
      ]
     },
     "execution_count": 16,
     "metadata": {},
     "output_type": "execute_result"
    }
   ],
   "source": [
    "df_hl = pd.read_html('https://raw.githubusercontent.com/JuJu-Ren/AIM-5001/main/M9/books.html')\n",
    "# show the dataset\n",
    "df_hl = df_hl[0]\n",
    "df_hl"
   ]
  },
  {
   "cell_type": "markdown",
   "id": "c78cb68c",
   "metadata": {},
   "source": [
    "## Part II: Scraping the Katz School’s “Staff” Web Page"
   ]
  },
  {
   "cell_type": "markdown",
   "id": "a861074a",
   "metadata": {},
   "source": [
    "access the web page containing the Katz School’s “Staff” information (https://www.yu.edu/katz/staff )"
   ]
  },
  {
   "cell_type": "code",
   "execution_count": 308,
   "id": "cfdf914a",
   "metadata": {},
   "outputs": [
    {
     "data": {
      "text/plain": [
       "['Paul Russo, Vice Provost and Dean\\xa0',\n",
       " 'Aaron Ross, Director of Strategic Initiatives and Deputy to the Dean\\xa0',\n",
       " '\\nSofia Binioris, Senior Project Manager and Advisor to the Dean\\xa0',\n",
       " 'Jackie Hamilton, Director of Global Engagement and New Business Development',\n",
       " 'Tabitha Collazo, Business and Operations Coordinator',\n",
       " 'Jared Hakimi, Director',\n",
       " 'Shayna Matzner, Assistant Director',\n",
       " 'Xavier Velasquez, Assistant Director',\n",
       " 'Rafael Reyes, Director of Graduate Student Life and Community Engagement',\n",
       " 'Shari Lowsky, Academic Program Manager, STEM',\n",
       " 'Simon Jaffe, Academic Program Coordinator, Speech-Language Pathology',\n",
       " 'Gladys Davis, Academic Program Coordinator, Occupational Therapy',\n",
       " 'Nebahat Bayrakcioglu, Academic Program Coordinator, Physician Assistant Studies',\n",
       " 'John Vivolo, Director of Online and Campus Learning Strategies',\n",
       " 'Lloyd Carew-Reid,\\xa0Instructional Designer',\n",
       " 'Denton Field, Educational Technologist']"
      ]
     },
     "execution_count": 308,
     "metadata": {},
     "output_type": "execute_result"
    }
   ],
   "source": [
    "import requests\n",
    "import pandas as pd\n",
    "from bs4 import BeautifulSoup\n",
    "import re\n",
    "url = 'https://www.yu.edu/katz/staff'\n",
    "r = requests.get(url)\n",
    "c = r.content\n",
    "soup = BeautifulSoup(c,\"html.parser\")\n",
    "soup = soup.find(\"div\",{\"class\":\"text-only\"})\n",
    "# office = soup.find_all('h3')\n",
    "# print(office)\n",
    "# x=[]\n",
    "# for i in soup.stripped_strings:\n",
    "#     x.append(i)\n",
    "# x\n"
   ]
  },
  {
   "cell_type": "code",
   "execution_count": 307,
   "id": "5b1a22c9",
   "metadata": {},
   "outputs": [
    {
     "data": {
      "text/html": [
       "<div>\n",
       "<style scoped>\n",
       "    .dataframe tbody tr th:only-of-type {\n",
       "        vertical-align: middle;\n",
       "    }\n",
       "\n",
       "    .dataframe tbody tr th {\n",
       "        vertical-align: top;\n",
       "    }\n",
       "\n",
       "    .dataframe thead th {\n",
       "        text-align: right;\n",
       "    }\n",
       "</style>\n",
       "<table border=\"1\" class=\"dataframe\">\n",
       "  <thead>\n",
       "    <tr style=\"text-align: right;\">\n",
       "      <th></th>\n",
       "      <th>Office</th>\n",
       "      <th>Name</th>\n",
       "      <th>Title</th>\n",
       "      <th>Email</th>\n",
       "      <th>Phone</th>\n",
       "    </tr>\n",
       "  </thead>\n",
       "  <tbody>\n",
       "  </tbody>\n",
       "</table>\n",
       "</div>"
      ],
      "text/plain": [
       "Empty DataFrame\n",
       "Columns: [Office, Name, Title, Email, Phone]\n",
       "Index: []"
      ]
     },
     "execution_count": 307,
     "metadata": {},
     "output_type": "execute_result"
    }
   ],
   "source": [
    "#creating the dataframe\n",
    "staff_info = pd.DataFrame(columns = [\"Office\", \"Name\", \"Title\", \"Email\", \"Phone\"])\n",
    "staff_info"
   ]
  },
  {
   "cell_type": "code",
   "execution_count": 335,
   "id": "c0c211de",
   "metadata": {},
   "outputs": [
    {
     "data": {
      "text/plain": [
       "['\\nOffice of the Dean\\n',\n",
       " '\\nGraduate Admissions\\n',\n",
       " '\\nGraduate Student Life\\n',\n",
       " '\\nAcademic Programs\\n',\n",
       " '\\nTeaching and Learning\\n']"
      ]
     },
     "execution_count": 335,
     "metadata": {},
     "output_type": "execute_result"
    }
   ],
   "source": [
    "string = soup.get_text()\n",
    "string = string.replace(\"\\xa0\",'')\n",
    "office_list = re.findall(r\"[\\n][\\w ]+[\\n]\",string)\n",
    "office_list"
   ]
  },
  {
   "cell_type": "code",
   "execution_count": 340,
   "id": "31ff4444",
   "metadata": {},
   "outputs": [
    {
     "data": {
      "text/plain": [
       "[\"\\nPaul Russo, Vice Provost and Dean\\nRead Dr. Russo's full biography\\nAaron Ross, Director of Strategic Initiatives and Deputy to the Dean\\naaron.ross2@yu.edu |646-592-4148 \\n\\nSofia Binioris, Senior Project Manager and Advisor to the Dean\\nsofia.binioris@yu.edu \\nJackie Hamilton, Director of Global Engagement and New Business Development\\njackie.hamilton@yu.edu I 646-787-6194\\nTabitha Collazo, Business and Operations Coordinator\\ntabitha.collazo@yu.edu | 646-592-4735\",\n",
       " '\\nJared Hakimi, Director\\njared.hakimi@yu.edu|646-592-4722 | Schedule an Appointment\\nShayna Matzner, Assistant Director\\nshayna.matzner@yu.eduI646-592-4726 ISchedule an Appointment\\nXavier Velasquez, Assistant Director\\nxavier.velasquez@yu.edu | 646-592-4737 | Schedule an Appointment',\n",
       " '\\nRafael Reyes, Director of Graduate Student Life and Community Engagement\\nrafael.reyes@yu.edu I 646-592-4729',\n",
       " '\\nShari Lowsky, Academic Program Manager, STEM\\nshari.lowsky@yu.edu I646-592-4311\\nSimon Jaffe, Academic Program Coordinator, Speech-Language Pathology\\nsimon.jaffe@yu.edu|646-592-4717\\nGladys Davis, Academic Program Coordinator, Occupational Therapy\\ngladys.davis@yu.edu|646-592-4762\\nNebahat Bayrakcioglu, Academic Program Coordinator, Physician Assistant Studies\\nnebahat.bayrakcioglu@yu.edu|646-592-4034',\n",
       " '\\nJohn Vivolo, Director of Online and Campus Learning Strategies\\njohn.vivolo@yu.edu|646-592-4743\\nLloyd Carew-Reid,Instructional Designer\\nlloyd.carew-reid@yu.edu|646-592-4768\\nDenton Field, Educational Technologist\\ndenton.field@yu.edu\\n\\n']"
      ]
     },
     "execution_count": 340,
     "metadata": {},
     "output_type": "execute_result"
    }
   ],
   "source": [
    "#spliting staff based on the offices\n",
    "info = re.split(r\"[\\n][\\w ]+[\\n]\",string)[1:]\n",
    "# len(info)\n",
    "for i in range(0,len(info)):\n",
    "    info[i] = \"\\n\" + info[i]\n",
    "info"
   ]
  },
  {
   "cell_type": "code",
   "execution_count": null,
   "id": "972900d9",
   "metadata": {},
   "outputs": [],
   "source": []
  }
 ],
 "metadata": {
  "kernelspec": {
   "display_name": "Python 3 (ipykernel)",
   "language": "python",
   "name": "python3"
  },
  "language_info": {
   "codemirror_mode": {
    "name": "ipython",
    "version": 3
   },
   "file_extension": ".py",
   "mimetype": "text/x-python",
   "name": "python",
   "nbconvert_exporter": "python",
   "pygments_lexer": "ipython3",
   "version": "3.9.12"
  }
 },
 "nbformat": 4,
 "nbformat_minor": 5
}
