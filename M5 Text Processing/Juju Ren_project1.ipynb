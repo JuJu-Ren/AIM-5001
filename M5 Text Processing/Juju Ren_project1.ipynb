{
 "cells": [
  {
   "cell_type": "code",
   "execution_count": 3,
   "id": "1bf3b232",
   "metadata": {},
   "outputs": [],
   "source": [
    "txt = \"555-1239Dr. Anthony Fauci(636) 555-0113Hollingdorp, Donnatella555-6542Fitzgerald, F. Scott555 8904Rev. Martin Luther King636-555-3226Snodgrass, Theodore5553642Carlamina Scarfoni\""
   ]
  },
  {
   "cell_type": "markdown",
   "id": "b01c2ab6",
   "metadata": {},
   "source": [
    "# Question 1 \n",
    "\n",
    "* expected outcome: \n",
    "\n",
    "\"Dr. Anthony Fauci\" \"Hollingdorp, Donnatella\" \"Fitzgerald, F. Scott\" \"Rev. Martin Luther King\" \"Snodgrass, Theodore\" \"Carlamina Scarfoni\""
   ]
  },
  {
   "cell_type": "code",
   "execution_count": 13,
   "id": "ea2528e7",
   "metadata": {
    "scrolled": true
   },
   "outputs": [
    {
     "name": "stdout",
     "output_type": "stream",
     "text": [
      "['Dr. Anthony Fauci', 'Hollingdorp, Donnatella', 'Fitzgerald, F. Scott', 'Rev. Martin Luther King', 'Snodgrass, Theodore', 'Carlamina Scarfoni']\n"
     ]
    }
   ],
   "source": [
    "import re\n",
    "x = re.findall(r'[A-Za-z]+[\\.\\s\\,A-Za-z]+', txt)\n",
    "print(x)"
   ]
  },
  {
   "cell_type": "markdown",
   "id": "287dab50",
   "metadata": {},
   "source": [
    "# Question 2\n",
    "## a.  rearrange the vector so that all elements conform to the standard name style"
   ]
  },
  {
   "cell_type": "code",
   "execution_count": 39,
   "id": "e065cef7",
   "metadata": {},
   "outputs": [
    {
     "name": "stdout",
     "output_type": "stream",
     "text": [
      "['Dr. Anthony Fauci', 'Hollingdorp', ' Donnatella', 'Fitzgerald', ' F. Scott', 'Rev. Martin Luther King', 'Snodgrass', ' Theodore', 'Carlamina Scarfoni']\n"
     ]
    }
   ],
   "source": [
    "pattern = r'\\,+'\n",
    "name=[]\n",
    "for i in x:\n",
    "    l = re.split(pattern, i)\n",
    "    name+=l\n",
    "print(name)"
   ]
  },
  {
   "cell_type": "markdown",
   "id": "d320f36d",
   "metadata": {},
   "source": [
    "## b.  construct a logical vector indicating whether a character has a title (i.e., Rev. and Dr.)."
   ]
  },
  {
   "cell_type": "code",
   "execution_count": 33,
   "id": "e265e6a0",
   "metadata": {},
   "outputs": [
    {
     "data": {
      "text/plain": [
       "1          Dr. Anthony Fauci\n",
       "2                Hollingdorp\n",
       "3                 Donnatella\n",
       "4                 Fitzgerald\n",
       "5                   F. Scott\n",
       "6    Rev. Martin Luther King\n",
       "7                  Snodgrass\n",
       "8                   Theodore\n",
       "9         Carlamina Scarfoni\n",
       "dtype: object"
      ]
     },
     "execution_count": 33,
     "metadata": {},
     "output_type": "execute_result"
    }
   ],
   "source": [
    "# import Pandas library\n",
    "import pandas as pd\n",
    "import numpy as np\n",
    "# define some simple data to use\n",
    "data = {'1':'Dr. Anthony Fauci', '2':'Hollingdorp', '3':'Donnatella',\n",
    "        '4': 'Fitzgerald', '5':'F. Scott','6':'Rev. Martin Luther King', \n",
    "        '7':'Snodgrass', '8':'Theodore','9': 'Carlamina Scarfoni'}\n",
    "data = pd.Series(data)\n",
    "data"
   ]
  },
  {
   "cell_type": "code",
   "execution_count": 34,
   "id": "01690f9b",
   "metadata": {},
   "outputs": [
    {
     "data": {
      "text/plain": [
       "1     True\n",
       "2    False\n",
       "3    False\n",
       "4    False\n",
       "5    False\n",
       "6     True\n",
       "7    False\n",
       "8    False\n",
       "9    False\n",
       "dtype: bool"
      ]
     },
     "execution_count": 34,
     "metadata": {},
     "output_type": "execute_result"
    }
   ],
   "source": [
    "# search the 'data' object for the string 'Dr.' or 'Rev.': the result is a boolean\n",
    "# vector\n",
    "data.str.contains('Rev.|Dr.')"
   ]
  },
  {
   "cell_type": "markdown",
   "id": "25bb1af1",
   "metadata": {},
   "source": [
    "## c. construct a logical vector indicating whether a character has a middle/second name."
   ]
  },
  {
   "cell_type": "code",
   "execution_count": 345,
   "id": "e658d589",
   "metadata": {},
   "outputs": [
    {
     "data": {
      "text/plain": [
       "1    False\n",
       "2    False\n",
       "3    False\n",
       "4    False\n",
       "5    False\n",
       "6    False\n",
       "7    False\n",
       "8    False\n",
       "9    False\n",
       "dtype: bool"
      ]
     },
     "execution_count": 345,
     "metadata": {},
     "output_type": "execute_result"
    }
   ],
   "source": [
    "# pattern： 1st character is a space, 2nd is one character of A-z, 3rd is ., the end is a space\n",
    "pattern_m = r' [A-z]{2}\\. '\n",
    "data.str.contains(pattern_m)"
   ]
  },
  {
   "cell_type": "markdown",
   "id": "8f11a46e",
   "metadata": {},
   "source": [
    "#  3. Question 3\n",
    "Consider the HTML string <title>+++BREAKING NEWS+++<title>. We would like to extract the first HTML tag\n",
    "(i.e., “<title>”). To do so we write the regular expression “<.+>”. Explain why this fails and correct the expression."
   ]
  },
  {
   "cell_type": "code",
   "execution_count": 492,
   "id": "b101c9ce",
   "metadata": {},
   "outputs": [
    {
     "data": {
      "text/plain": [
       "['<title>+++BREAKING NEWS+++<title>']"
      ]
     },
     "execution_count": 492,
     "metadata": {},
     "output_type": "execute_result"
    }
   ],
   "source": [
    "html = '<title>+++BREAKING NEWS+++<title>'\n",
    "pattern = r'<.+>'\n",
    "regex = re.compile(pattern, flags=re.IGNORECASE)\n",
    "regex.findall(html)"
   ]
  },
  {
   "cell_type": "code",
   "execution_count": 493,
   "id": "31397337",
   "metadata": {},
   "outputs": [
    {
     "data": {
      "text/plain": [
       "['<title>', '<title>']"
      ]
     },
     "execution_count": 493,
     "metadata": {},
     "output_type": "execute_result"
    }
   ],
   "source": [
    "# can match <any character>\n",
    "pattern_correct = r'<[A-z]+>'\n",
    "\n",
    "# compile pattern\n",
    "regex = re.compile(pattern_correct, flags=re.IGNORECASE)\n",
    "\n",
    "# find all matches\n",
    "result = regex.findall(html)\n",
    "\n",
    "# print\n",
    "result"
   ]
  },
  {
   "cell_type": "code",
   "execution_count": 494,
   "id": "d8036e45",
   "metadata": {},
   "outputs": [
    {
     "name": "stdout",
     "output_type": "stream",
     "text": [
      "<title>\n"
     ]
    }
   ],
   "source": [
    "# To get the first <title>\n",
    "if len(result) > 0:\n",
    "    print(result[0])"
   ]
  },
  {
   "cell_type": "markdown",
   "id": "ad73f584",
   "metadata": {},
   "source": [
    "# question 4\n",
    "Consider the string “(5-3)^2=5^2-2*5*3+3^2” conforms to the binomial theorem. We would like to extract\n",
    "the equation in its entirety from the string. To do so we write the regular expression “[^0-9=+*()]+”"
   ]
  },
  {
   "cell_type": "code",
   "execution_count": 495,
   "id": "1f27d50b",
   "metadata": {},
   "outputs": [
    {
     "data": {
      "text/plain": [
       "['-', '^', '^', '-', '^']"
      ]
     },
     "execution_count": 495,
     "metadata": {},
     "output_type": "execute_result"
    }
   ],
   "source": [
    "formula = '(5-3)^2=5^2-2*5*3+3^2'\n",
    "pattern = r'[^0-9=+*()]+'\n",
    "regex = re.compile(pattern, flags=re.IGNORECASE)\n",
    "regex.findall(formula)"
   ]
  },
  {
   "cell_type": "code",
   "execution_count": 496,
   "id": "c7765331",
   "metadata": {},
   "outputs": [
    {
     "data": {
      "text/plain": [
       "['(5-3)^2=5^2-2*5*3+3^2']"
      ]
     },
     "execution_count": 496,
     "metadata": {},
     "output_type": "execute_result"
    }
   ],
   "source": [
    "s = '(5-3)^2=5^2-2*5*3+3^2'\n",
    "pattern = r'[0-9\\^()*+-=]+'\n",
    "regex = re.compile(pattern, flags=re.IGNORECASE)\n",
    "regex.findall(s)"
   ]
  },
  {
   "cell_type": "markdown",
   "id": "0c5e637a",
   "metadata": {},
   "source": [
    "# part 2"
   ]
  },
  {
   "cell_type": "code",
   "execution_count": 627,
   "id": "8eb09172",
   "metadata": {},
   "outputs": [],
   "source": [
    "import csv\n",
    "import pandas as pd\n",
    "import re \n",
    "import string\n",
    "from statistics import mean"
   ]
  },
  {
   "cell_type": "code",
   "execution_count": 628,
   "id": "920b823c",
   "metadata": {},
   "outputs": [
    {
     "name": "stdout",
     "output_type": "stream",
     "text": [
      "-----------------------------------------------------------------------------------------\n",
      " Pair | Player Name                     |Total|Round|Round|Round|Round|Round|Round|Round| \n",
      " Num  | USCF ID / Rtg (Pre->Post)       | Pts |  1  |  2  |  3  |  4  |  5  |  6  |  7  | \n",
      "-----------------------------------------------------------------------------------------\n",
      "    1 | GARY HUA                        |6.0  |W  39|W  21|W  18|W  14|W   7|D  12|D   4|\n",
      "   ON | 15445895 / R: 1794   ->1817     |N:2  |W    |B    |W    |B    |W    |B    |W    |\n",
      "-----------------------------------------------------------------------------------------\n",
      "    2 | DAKSHESH DARURI                 |6.0  |W  63|W  58|L   4|W  17|W  16|W  20|W   7|\n",
      "   MI | 14598900 / R: 1553   ->1663     |N:2  |B    |W    |B    |W    |B    |W    |B    |\n",
      "-----------------------------------------------------------------------------------------\n",
      "    3 | ADITYA BAJAJ                    |6.0  |L   8|W  61|W  25|W  21|W  11|W  13|W  12|\n",
      "   MI | 14959604 / R: 1384   ->1640     |N:2  |W    |B    |W    |B    |W    |B    |W    |\n",
      "-----------------------------------------------------------------------------------------\n",
      "    4 | PATRICK H SCHILLING             |5.5  |W  23|D  28|W   2|W  26|D   5|W  19|D   1|\n",
      "   MI | 12616049 / R: 1716   ->1744     |N:2  |W    |B    |W    |B    |W    |B    |B    |\n",
      "-----------------------------------------------------------------------------------------\n",
      "    5 | HANSHI ZUO                      |5.5  |W  45|W  37|D  12|D  13|D   4|W  14|W  17|\n",
      "   MI | 14601533 / R: 1655   ->1690     |N:2  |B    |W    |B    |W    |B    |W    |B    |\n",
      "-----------------------------------------------------------------------------------------\n",
      "    6 | HANSEN SONG                     |5.0  |W  34|D  29|L  11|W  35|D  10|W  27|W  21|\n",
      "   OH | 15055204 / R: 1686   ->1687     |N:3  |W    |B    |W    |B    |B    |W    |B    |\n",
      "-----------------------------------------------------------------------------------------\n",
      "    7 | GARY DEE SWATHELL               |5.0  |W  57|W  46|W  13|W  11|L   1|W   9|L   2|\n",
      "   MI | 11146376 / R: 1649   ->1673     |N:3  |W    |B    |W    |B    |B    |W    |W    |\n",
      "-----------------------------------------------------------------------------------------\n",
      "    8 | EZEKIEL HOUGHTON                |5.0  |W   3|W  32|L  14|L   9|W  47|W  28|W  19|\n",
      "   MI | 15142253 / R: 1641P17->1657P24  |N:3  |B    |W    |B    |W    |B    |W    |W    |\n",
      "-----------------------------------------------------------------------------------------\n",
      "    9 | STEFANO LEE                     |5.0  |W  25|L  18|W  59|W   8|W  26|L   7|W  20|\n",
      "   ON | 14954524 / R: 1411   ->1564     |N:2  |W    |B    |W    |B    |W    |B    |B    |\n",
      "-----------------------------------------------------------------------------------------\n",
      "   10 | ANVIT RAO                       |5.0  |D  16|L  19|W  55|W  31|D   6|W  25|W  18|\n",
      "   MI | 14150362 / R: 1365   ->1544     |N:3  |W    |W    |B    |B    |W    |B    |W    |\n",
      "-----------------------------------------------------------------------------------------\n",
      "   11 | CAMERON WILLIAM MC LEMAN        |4.5  |D  38|W  56|W   6|L   7|L   3|W  34|W  26|\n",
      "   MI | 12581589 / R: 1712   ->1696     |N:3  |B    |W    |B    |W    |B    |W    |B    |\n",
      "-----------------------------------------------------------------------------------------\n",
      "   12 | KENNETH J TACK                  |4.5  |W  42|W  33|D   5|W  38|H    |D   1|L   3|\n",
      "   MI | 12681257 / R: 1663   ->1670     |N:3  |W    |B    |W    |B    |     |W    |B    |\n",
      "-----------------------------------------------------------------------------------------\n",
      "   13 | TORRANCE HENRY JR               |4.5  |W  36|W  27|L   7|D   5|W  33|L   3|W  32|\n",
      "   MI | 15082995 / R: 1666   ->1662     |N:3  |B    |W    |B    |B    |W    |W    |B    |\n",
      "-----------------------------------------------------------------------------------------\n",
      "   14 | BRADLEY SHAW                    |4.5  |W  54|W  44|W   8|L   1|D  27|L   5|W  31|\n",
      "   MI | 10131499 / R: 1610   ->1618     |N:3  |W    |B    |W    |W    |B    |B    |W    |\n",
      "-----------------------------------------------------------------------------------------\n",
      "   15 | ZACHARY JAMES HOUGHTON          |4.5  |D  19|L  16|W  30|L  22|W  54|W  33|W  38|\n",
      "   MI | 15619130 / R: 1220P13->1416P20  |N:3  |B    |B    |W    |W    |B    |B    |W    |\n",
      "-----------------------------------------------------------------------------------------\n",
      "   16 | MIKE NIKITIN                    |4.0  |D  10|W  15|H    |W  39|L   2|W  36|U    |\n",
      "   MI | 10295068 / R: 1604   ->1613     |N:3  |B    |W    |     |B    |W    |B    |     |\n",
      "-----------------------------------------------------------------------------------------\n",
      "   17 | RONALD GRZEGORCZYK              |4.0  |W  48|W  41|L  26|L   2|W  23|W  22|L   5|\n",
      "   MI | 10297702 / R: 1629   ->1610     |N:3  |W    |B    |W    |B    |W    |B    |W    |\n",
      "-----------------------------------------------------------------------------------------\n",
      "   18 | DAVID SUNDEEN                   |4.0  |W  47|W   9|L   1|W  32|L  19|W  38|L  10|\n",
      "   MI | 11342094 / R: 1600   ->1600     |N:3  |B    |W    |B    |W    |B    |W    |B    |\n",
      "-----------------------------------------------------------------------------------------\n",
      "   19 | DIPANKAR ROY                    |4.0  |D  15|W  10|W  52|D  28|W  18|L   4|L   8|\n",
      "   MI | 14862333 / R: 1564   ->1570     |N:3  |W    |B    |W    |B    |W    |W    |B    |\n",
      "-----------------------------------------------------------------------------------------\n",
      "   20 | JASON ZHENG                     |4.0  |L  40|W  49|W  23|W  41|W  28|L   2|L   9|\n",
      "   MI | 14529060 / R: 1595   ->1569     |N:4  |W    |B    |W    |B    |W    |B    |W    |\n",
      "-----------------------------------------------------------------------------------------\n",
      "   21 | DINH DANG BUI                   |4.0  |W  43|L   1|W  47|L   3|W  40|W  39|L   6|\n",
      "   ON | 15495066 / R: 1563P22->1562     |N:3  |B    |W    |B    |W    |W    |B    |W    |\n",
      "-----------------------------------------------------------------------------------------\n",
      "   22 | EUGENE L MCCLURE                |4.0  |W  64|D  52|L  28|W  15|H    |L  17|W  40|\n",
      "   MI | 12405534 / R: 1555   ->1529     |N:4  |W    |B    |W    |B    |     |W    |B    |\n",
      "-----------------------------------------------------------------------------------------\n",
      "   23 | ALAN BUI                        |4.0  |L   4|W  43|L  20|W  58|L  17|W  37|W  46|\n",
      "   ON | 15030142 / R: 1363   ->1371     |     |B    |W    |B    |W    |B    |W    |B    |\n",
      "-----------------------------------------------------------------------------------------\n",
      "   24 | MICHAEL R ALDRICH               |4.0  |L  28|L  47|W  43|L  25|W  60|W  44|W  39|\n",
      "   MI | 13469010 / R: 1229   ->1300     |N:4  |B    |W    |B    |B    |W    |W    |B    |\n",
      "-----------------------------------------------------------------------------------------\n",
      "   25 | LOREN SCHWIEBERT                |3.5  |L   9|W  53|L   3|W  24|D  34|L  10|W  47|\n",
      "   MI | 12486656 / R: 1745   ->1681     |N:4  |B    |W    |B    |W    |B    |W    |B    |\n",
      "-----------------------------------------------------------------------------------------\n",
      "   26 | MAX ZHU                         |3.5  |W  49|W  40|W  17|L   4|L   9|D  32|L  11|\n",
      "   ON | 15131520 / R: 1579   ->1564     |N:4  |B    |W    |B    |W    |B    |W    |W    |\n",
      "-----------------------------------------------------------------------------------------\n",
      "   27 | GAURAV GIDWANI                  |3.5  |W  51|L  13|W  46|W  37|D  14|L   6|U    |\n",
      "   MI | 14476567 / R: 1552   ->1539     |N:4  |W    |B    |W    |B    |W    |B    |     |\n",
      "-----------------------------------------------------------------------------------------\n",
      "   28 | SOFIA ADINA STANESCU-BELLU      |3.5  |W  24|D   4|W  22|D  19|L  20|L   8|D  36|\n",
      "   MI | 14882954 / R: 1507   ->1513     |N:3  |W    |W    |B    |W    |B    |B    |W    |\n",
      "-----------------------------------------------------------------------------------------\n",
      "   29 | CHIEDOZIE OKORIE                |3.5  |W  50|D   6|L  38|L  34|W  52|W  48|U    |\n",
      "   MI | 15323285 / R: 1602P6 ->1508P12  |N:4  |B    |W    |B    |W    |W    |B    |     |\n",
      "-----------------------------------------------------------------------------------------\n",
      "   30 | GEORGE AVERY JONES              |3.5  |L  52|D  64|L  15|W  55|L  31|W  61|W  50|\n",
      "   ON | 12577178 / R: 1522   ->1444     |     |W    |B    |B    |W    |W    |B    |B    |\n",
      "-----------------------------------------------------------------------------------------\n",
      "   31 | RISHI SHETTY                    |3.5  |L  58|D  55|W  64|L  10|W  30|W  50|L  14|\n",
      "   MI | 15131618 / R: 1494   ->1444     |     |B    |W    |B    |W    |B    |W    |B    |\n",
      "-----------------------------------------------------------------------------------------\n",
      "   32 | JOSHUA PHILIP MATHEWS           |3.5  |W  61|L   8|W  44|L  18|W  51|D  26|L  13|\n",
      "   ON | 14073750 / R: 1441   ->1433     |N:4  |W    |B    |W    |B    |W    |B    |W    |\n",
      "-----------------------------------------------------------------------------------------\n",
      "   33 | JADE GE                         |3.5  |W  60|L  12|W  50|D  36|L  13|L  15|W  51|\n",
      "   MI | 14691842 / R: 1449   ->1421     |     |B    |W    |B    |W    |B    |W    |B    |\n",
      "-----------------------------------------------------------------------------------------\n",
      "   34 | MICHAEL JEFFERY THOMAS          |3.5  |L   6|W  60|L  37|W  29|D  25|L  11|W  52|\n",
      "   MI | 15051807 / R: 1399   ->1400     |     |B    |W    |B    |B    |W    |B    |W    |\n",
      "-----------------------------------------------------------------------------------------\n",
      "   35 | JOSHUA DAVID LEE                |3.5  |L  46|L  38|W  56|L   6|W  57|D  52|W  48|\n",
      "   MI | 14601397 / R: 1438   ->1392     |     |W    |W    |B    |W    |B    |B    |W    |\n",
      "-----------------------------------------------------------------------------------------\n",
      "   36 | SIDDHARTH JHA                   |3.5  |L  13|W  57|W  51|D  33|H    |L  16|D  28|\n",
      "   MI | 14773163 / R: 1355   ->1367     |N:4  |W    |B    |W    |B    |     |W    |B    |\n",
      "-----------------------------------------------------------------------------------------\n",
      "   37 | AMIYATOSH PWNANANDAM            |3.5  |B    |L   5|W  34|L  27|H    |L  23|W  61|\n",
      "   MI | 15489571 / R:  980P12->1077P17  |     |     |B    |W    |W    |     |B    |W    |\n",
      "-----------------------------------------------------------------------------------------\n",
      "   38 | BRIAN LIU                       |3.0  |D  11|W  35|W  29|L  12|H    |L  18|L  15|\n",
      "   MI | 15108523 / R: 1423   ->1439     |N:4  |W    |B    |W    |W    |     |B    |B    |\n",
      "-----------------------------------------------------------------------------------------\n",
      "   39 | JOEL R HENDON                   |3.0  |L   1|W  54|W  40|L  16|W  44|L  21|L  24|\n",
      "   MI | 12923035 / R: 1436P23->1413     |N:4  |B    |W    |B    |W    |B    |W    |W    |\n",
      "-----------------------------------------------------------------------------------------\n",
      "   40 | FOREST ZHANG                    |3.0  |W  20|L  26|L  39|W  59|L  21|W  56|L  22|\n",
      "   MI | 14892710 / R: 1348   ->1346     |     |B    |B    |W    |W    |B    |W    |W    |\n",
      "-----------------------------------------------------------------------------------------\n",
      "   41 | KYLE WILLIAM MURPHY             |3.0  |W  59|L  17|W  58|L  20|X    |U    |U    |\n",
      "   MI | 15761443 / R: 1403P5 ->1341P9   |     |B    |W    |B    |W    |     |     |     |\n",
      "-----------------------------------------------------------------------------------------\n",
      "   42 | JARED GE                        |3.0  |L  12|L  50|L  57|D  60|D  61|W  64|W  56|\n",
      "   MI | 14462326 / R: 1332   ->1256     |     |B    |W    |B    |B    |W    |W    |B    |\n",
      "-----------------------------------------------------------------------------------------\n",
      "   43 | ROBERT GLEN VASEY               |3.0  |L  21|L  23|L  24|W  63|W  59|L  46|W  55|\n",
      "   MI | 14101068 / R: 1283   ->1244     |     |W    |B    |W    |W    |B    |B    |W    |\n",
      "-----------------------------------------------------------------------------------------\n",
      "   44 | JUSTIN D SCHILLING              |3.0  |B    |L  14|L  32|W  53|L  39|L  24|W  59|\n",
      "   MI | 15323504 / R: 1199   ->1199     |     |     |W    |B    |B    |W    |B    |W    |\n",
      "-----------------------------------------------------------------------------------------\n",
      "   45 | DEREK YAN                       |3.0  |L   5|L  51|D  60|L  56|W  63|D  55|W  58|\n",
      "   MI | 15372807 / R: 1242   ->1191     |     |W    |B    |W    |B    |W    |B    |W    |\n",
      "-----------------------------------------------------------------------------------------\n",
      "   46 | JACOB ALEXANDER LAVALLEY        |3.0  |W  35|L   7|L  27|L  50|W  64|W  43|L  23|\n",
      "   MI | 15490981 / R:  377P3 ->1076P10  |     |B    |W    |B    |W    |B    |W    |W    |\n",
      "-----------------------------------------------------------------------------------------\n",
      "   47 | ERIC WRIGHT                     |2.5  |L  18|W  24|L  21|W  61|L   8|D  51|L  25|\n",
      "   MI | 12533115 / R: 1362   ->1341     |     |W    |B    |W    |B    |W    |B    |W    |\n",
      "-----------------------------------------------------------------------------------------\n",
      "   48 | DANIEL KHAIN                    |2.5  |L  17|W  63|H    |D  52|H    |L  29|L  35|\n",
      "   MI | 14369165 / R: 1382   ->1335     |     |B    |W    |     |B    |     |W    |B    |\n",
      "-----------------------------------------------------------------------------------------\n",
      "   49 | MICHAEL J MARTIN                |2.5  |L  26|L  20|D  63|D  64|W  58|H    |U    |\n",
      "   MI | 12531685 / R: 1291P12->1259P17  |     |W    |W    |B    |W    |B    |     |     |\n",
      "-----------------------------------------------------------------------------------------\n",
      "   50 | SHIVAM JHA                      |2.5  |L  29|W  42|L  33|W  46|H    |L  31|L  30|\n",
      "   MI | 14773178 / R: 1056   ->1111     |     |W    |B    |W    |B    |     |B    |W    |\n",
      "-----------------------------------------------------------------------------------------\n",
      "   51 | TEJAS AYYAGARI                  |2.5  |L  27|W  45|L  36|W  57|L  32|D  47|L  33|\n",
      "   MI | 15205474 / R: 1011   ->1097     |     |B    |W    |B    |W    |B    |W    |W    |\n",
      "-----------------------------------------------------------------------------------------\n",
      "   52 | ETHAN GUO                       |2.5  |W  30|D  22|L  19|D  48|L  29|D  35|L  34|\n",
      "   MI | 14918803 / R:  935   ->1092     |N:4  |B    |W    |B    |W    |B    |W    |B    |\n",
      "-----------------------------------------------------------------------------------------\n",
      "   53 | JOSE C YBARRA                   |2.0  |H    |L  25|H    |L  44|U    |W  57|U    |\n",
      "   MI | 12578849 / R: 1393   ->1359     |     |     |B    |     |W    |     |W    |     |\n",
      "-----------------------------------------------------------------------------------------\n",
      "   54 | LARRY HODGE                     |2.0  |L  14|L  39|L  61|B    |L  15|L  59|W  64|\n",
      "   MI | 12836773 / R: 1270   ->1200     |     |B    |B    |W    |     |W    |B    |W    |\n",
      "-----------------------------------------------------------------------------------------\n",
      "   55 | ALEX KONG                       |2.0  |L  62|D  31|L  10|L  30|B    |D  45|L  43|\n",
      "   MI | 15412571 / R: 1186   ->1163     |     |W    |B    |W    |B    |     |W    |B    |\n",
      "-----------------------------------------------------------------------------------------\n",
      "   56 | MARISA RICCI                    |2.0  |H    |L  11|L  35|W  45|H    |L  40|L  42|\n",
      "   MI | 14679887 / R: 1153   ->1140     |     |     |B    |W    |W    |     |B    |W    |\n",
      "-----------------------------------------------------------------------------------------\n",
      "   57 | MICHAEL LU                      |2.0  |L   7|L  36|W  42|L  51|L  35|L  53|B    |\n",
      "   MI | 15113330 / R: 1092   ->1079     |     |B    |W    |W    |B    |W    |B    |     |\n",
      "-----------------------------------------------------------------------------------------\n",
      "   58 | VIRAJ MOHILE                    |2.0  |W  31|L   2|L  41|L  23|L  49|B    |L  45|\n",
      "   MI | 14700365 / R:  917   -> 941     |     |W    |B    |W    |B    |W    |     |B    |\n",
      "-----------------------------------------------------------------------------------------\n",
      "   59 | SEAN M MC CORMICK               |2.0  |L  41|B    |L   9|L  40|L  43|W  54|L  44|\n",
      "   MI | 12841036 / R:  853   -> 878     |     |W    |     |B    |B    |W    |W    |B    |\n",
      "-----------------------------------------------------------------------------------------\n",
      "   60 | JULIA SHEN                      |1.5  |L  33|L  34|D  45|D  42|L  24|H    |U    |\n",
      "   MI | 14579262 / R:  967   -> 984     |     |W    |B    |B    |W    |B    |     |     |\n",
      "-----------------------------------------------------------------------------------------\n",
      "   61 | JEZZEL FARKAS                   |1.5  |L  32|L   3|W  54|L  47|D  42|L  30|L  37|\n",
      "   ON | 15771592 / R:  955P11-> 979P18  |     |B    |W    |B    |W    |B    |W    |B    |\n",
      "-----------------------------------------------------------------------------------------\n",
      "   62 | ASHWIN BALAJI                   |1.0  |W  55|U    |U    |U    |U    |U    |U    |\n",
      "   MI | 15219542 / R: 1530   ->1535     |     |B    |     |     |     |     |     |     |\n",
      "-----------------------------------------------------------------------------------------\n",
      "   63 | THOMAS JOSEPH HOSMER            |1.0  |L   2|L  48|D  49|L  43|L  45|H    |U    |\n",
      "   MI | 15057092 / R: 1175   ->1125     |     |W    |B    |W    |B    |B    |     |     |\n",
      "-----------------------------------------------------------------------------------------\n",
      "   64 | BEN LI                          |1.0  |L  22|D  30|L  31|D  49|L  46|L  42|L  54|\n",
      "   MI | 15006561 / R: 1163   ->1112     |     |B    |W    |W    |B    |W    |B    |B    |\n",
      "-----------------------------------------------------------------------------------------\n"
     ]
    }
   ],
   "source": [
    "# open file as txt\n",
    "file = open(\"Project1.txt\", 'r').read()\n",
    "print(file)"
   ]
  },
  {
   "cell_type": "code",
   "execution_count": 629,
   "id": "bc4ea498",
   "metadata": {},
   "outputs": [
    {
     "data": {
      "text/html": [
       "<div>\n",
       "<style scoped>\n",
       "    .dataframe tbody tr th:only-of-type {\n",
       "        vertical-align: middle;\n",
       "    }\n",
       "\n",
       "    .dataframe tbody tr th {\n",
       "        vertical-align: top;\n",
       "    }\n",
       "\n",
       "    .dataframe thead th {\n",
       "        text-align: right;\n",
       "    }\n",
       "</style>\n",
       "<table border=\"1\" class=\"dataframe\">\n",
       "  <thead>\n",
       "    <tr style=\"text-align: right;\">\n",
       "      <th></th>\n",
       "      <th>PairNum</th>\n",
       "      <th>Player Name USCF ID / Rtg (Pre-&gt;Post)</th>\n",
       "      <th>Total Pts</th>\n",
       "      <th>Round1</th>\n",
       "      <th>Round2</th>\n",
       "      <th>Round3</th>\n",
       "      <th>Round4</th>\n",
       "      <th>Round5</th>\n",
       "      <th>Round6</th>\n",
       "      <th>Round7</th>\n",
       "    </tr>\n",
       "  </thead>\n",
       "  <tbody>\n",
       "    <tr>\n",
       "      <th>0</th>\n",
       "      <td>1</td>\n",
       "      <td>GARY HUA</td>\n",
       "      <td>6.0</td>\n",
       "      <td>W  39</td>\n",
       "      <td>W  21</td>\n",
       "      <td>W  18</td>\n",
       "      <td>W  14</td>\n",
       "      <td>W   7</td>\n",
       "      <td>D  12</td>\n",
       "      <td>D   4</td>\n",
       "    </tr>\n",
       "    <tr>\n",
       "      <th>1</th>\n",
       "      <td>ON</td>\n",
       "      <td>15445895 / R: 1794   -&gt;1817</td>\n",
       "      <td>N:2</td>\n",
       "      <td>W</td>\n",
       "      <td>B</td>\n",
       "      <td>W</td>\n",
       "      <td>B</td>\n",
       "      <td>W</td>\n",
       "      <td>B</td>\n",
       "      <td>W</td>\n",
       "    </tr>\n",
       "    <tr>\n",
       "      <th>2</th>\n",
       "      <td>2</td>\n",
       "      <td>DAKSHESH DARURI</td>\n",
       "      <td>6.0</td>\n",
       "      <td>W  63</td>\n",
       "      <td>W  58</td>\n",
       "      <td>L   4</td>\n",
       "      <td>W  17</td>\n",
       "      <td>W  16</td>\n",
       "      <td>W  20</td>\n",
       "      <td>W   7</td>\n",
       "    </tr>\n",
       "    <tr>\n",
       "      <th>3</th>\n",
       "      <td>MI</td>\n",
       "      <td>14598900 / R: 1553   -&gt;1663</td>\n",
       "      <td>N:2</td>\n",
       "      <td>B</td>\n",
       "      <td>W</td>\n",
       "      <td>B</td>\n",
       "      <td>W</td>\n",
       "      <td>B</td>\n",
       "      <td>W</td>\n",
       "      <td>B</td>\n",
       "    </tr>\n",
       "    <tr>\n",
       "      <th>4</th>\n",
       "      <td>3</td>\n",
       "      <td>ADITYA BAJAJ</td>\n",
       "      <td>6.0</td>\n",
       "      <td>L   8</td>\n",
       "      <td>W  61</td>\n",
       "      <td>W  25</td>\n",
       "      <td>W  21</td>\n",
       "      <td>W  11</td>\n",
       "      <td>W  13</td>\n",
       "      <td>W  12</td>\n",
       "    </tr>\n",
       "  </tbody>\n",
       "</table>\n",
       "</div>"
      ],
      "text/plain": [
       "  PairNum Player Name USCF ID / Rtg (Pre->Post) Total Pts Round1 Round2  \\\n",
       "0      1       GARY HUA                             6.0    W  39  W  21   \n",
       "1     ON       15445895 / R: 1794   ->1817          N:2    W      B       \n",
       "2      2       DAKSHESH DARURI                      6.0    W  63  W  58   \n",
       "3     MI       14598900 / R: 1553   ->1663          N:2    B      W       \n",
       "4      3       ADITYA BAJAJ                         6.0    L   8  W  61   \n",
       "\n",
       "  Round3 Round4 Round5 Round6 Round7  \n",
       "0  W  18  W  14  W   7  D  12  D   4  \n",
       "1  W      B      W      B      W      \n",
       "2  L   4  W  17  W  16  W  20  W   7  \n",
       "3  B      W      B      W      B      \n",
       "4  W  25  W  21  W  11  W  13  W  12  "
      ]
     },
     "execution_count": 629,
     "metadata": {},
     "output_type": "execute_result"
    }
   ],
   "source": [
    " # use of regex to remove dashes\n",
    "file = re.sub(\"[-]{2,}\", \" \", file)\n",
    "# split ncolums with delimiter = ''\n",
    "file = pd.DataFrame([x.split('|') for x in file.split('\\n')])\n",
    "#remove rows and columns that are empty\n",
    "file = file[file.index % 3 != 0] \n",
    "file = file.reset_index(drop=True)\n",
    "\n",
    "# remove first two columns \n",
    "file.drop(file.index[[0, 1]], inplace=True)\n",
    "file.drop(file.columns[10], axis=1, inplace=True)\n",
    "file = file.reset_index(drop=True)\n",
    "\n",
    "file.columns = [\"PairNum\", \"Player Name USCF ID / Rtg (Pre->Post)\", \"Total Pts\", \"Round1\", \"Round2\", \"Round3\", \"Round4\", \"Round5\", \"Round6\", \"Round7\"]\n",
    "file.head()"
   ]
  },
  {
   "cell_type": "code",
   "execution_count": 670,
   "id": "bb06a6c3",
   "metadata": {},
   "outputs": [
    {
     "data": {
      "text/html": [
       "<div>\n",
       "<style scoped>\n",
       "    .dataframe tbody tr th:only-of-type {\n",
       "        vertical-align: middle;\n",
       "    }\n",
       "\n",
       "    .dataframe tbody tr th {\n",
       "        vertical-align: top;\n",
       "    }\n",
       "\n",
       "    .dataframe thead th {\n",
       "        text-align: right;\n",
       "    }\n",
       "</style>\n",
       "<table border=\"1\" class=\"dataframe\">\n",
       "  <thead>\n",
       "    <tr style=\"text-align: right;\">\n",
       "      <th></th>\n",
       "      <th>Player_Names</th>\n",
       "      <th>State</th>\n",
       "      <th>Total Pts</th>\n",
       "      <th>Pre_Ratings</th>\n",
       "      <th>Round1</th>\n",
       "      <th>Round2</th>\n",
       "      <th>Round3</th>\n",
       "      <th>Round4</th>\n",
       "      <th>Round5</th>\n",
       "      <th>Round6</th>\n",
       "      <th>Round7</th>\n",
       "    </tr>\n",
       "  </thead>\n",
       "  <tbody>\n",
       "    <tr>\n",
       "      <th>0</th>\n",
       "      <td>GARY HUA</td>\n",
       "      <td>ON</td>\n",
       "      <td>6.0</td>\n",
       "      <td>1794</td>\n",
       "      <td>39</td>\n",
       "      <td>21</td>\n",
       "      <td>18</td>\n",
       "      <td>14</td>\n",
       "      <td>7</td>\n",
       "      <td>12</td>\n",
       "      <td>4</td>\n",
       "    </tr>\n",
       "    <tr>\n",
       "      <th>1</th>\n",
       "      <td>DAKSHESH DARURI</td>\n",
       "      <td>MI</td>\n",
       "      <td>6.0</td>\n",
       "      <td>1553</td>\n",
       "      <td>63</td>\n",
       "      <td>58</td>\n",
       "      <td>4</td>\n",
       "      <td>17</td>\n",
       "      <td>16</td>\n",
       "      <td>20</td>\n",
       "      <td>7</td>\n",
       "    </tr>\n",
       "    <tr>\n",
       "      <th>2</th>\n",
       "      <td>ADITYA BAJAJ</td>\n",
       "      <td>MI</td>\n",
       "      <td>6.0</td>\n",
       "      <td>1384</td>\n",
       "      <td>8</td>\n",
       "      <td>61</td>\n",
       "      <td>25</td>\n",
       "      <td>21</td>\n",
       "      <td>11</td>\n",
       "      <td>13</td>\n",
       "      <td>12</td>\n",
       "    </tr>\n",
       "    <tr>\n",
       "      <th>3</th>\n",
       "      <td>PATRICK H SCHILLING</td>\n",
       "      <td>MI</td>\n",
       "      <td>5.5</td>\n",
       "      <td>1716</td>\n",
       "      <td>23</td>\n",
       "      <td>28</td>\n",
       "      <td>2</td>\n",
       "      <td>26</td>\n",
       "      <td>5</td>\n",
       "      <td>19</td>\n",
       "      <td>1</td>\n",
       "    </tr>\n",
       "    <tr>\n",
       "      <th>4</th>\n",
       "      <td>HANSHI ZUO</td>\n",
       "      <td>MI</td>\n",
       "      <td>5.5</td>\n",
       "      <td>1655</td>\n",
       "      <td>45</td>\n",
       "      <td>37</td>\n",
       "      <td>12</td>\n",
       "      <td>13</td>\n",
       "      <td>4</td>\n",
       "      <td>14</td>\n",
       "      <td>17</td>\n",
       "    </tr>\n",
       "    <tr>\n",
       "      <th>...</th>\n",
       "      <td>...</td>\n",
       "      <td>...</td>\n",
       "      <td>...</td>\n",
       "      <td>...</td>\n",
       "      <td>...</td>\n",
       "      <td>...</td>\n",
       "      <td>...</td>\n",
       "      <td>...</td>\n",
       "      <td>...</td>\n",
       "      <td>...</td>\n",
       "      <td>...</td>\n",
       "    </tr>\n",
       "    <tr>\n",
       "      <th>59</th>\n",
       "      <td>JULIA SHEN</td>\n",
       "      <td>MI</td>\n",
       "      <td>1.5</td>\n",
       "      <td>967</td>\n",
       "      <td>33</td>\n",
       "      <td>34</td>\n",
       "      <td>45</td>\n",
       "      <td>42</td>\n",
       "      <td>24</td>\n",
       "      <td></td>\n",
       "      <td></td>\n",
       "    </tr>\n",
       "    <tr>\n",
       "      <th>60</th>\n",
       "      <td>JEZZEL FARKAS</td>\n",
       "      <td>ON</td>\n",
       "      <td>1.5</td>\n",
       "      <td>955</td>\n",
       "      <td>32</td>\n",
       "      <td>3</td>\n",
       "      <td>54</td>\n",
       "      <td>47</td>\n",
       "      <td>42</td>\n",
       "      <td>30</td>\n",
       "      <td>37</td>\n",
       "    </tr>\n",
       "    <tr>\n",
       "      <th>61</th>\n",
       "      <td>ASHWIN BALAJI</td>\n",
       "      <td>MI</td>\n",
       "      <td>1.0</td>\n",
       "      <td>1530</td>\n",
       "      <td>55</td>\n",
       "      <td></td>\n",
       "      <td></td>\n",
       "      <td></td>\n",
       "      <td></td>\n",
       "      <td></td>\n",
       "      <td></td>\n",
       "    </tr>\n",
       "    <tr>\n",
       "      <th>62</th>\n",
       "      <td>THOMAS JOSEPH HOSMER</td>\n",
       "      <td>MI</td>\n",
       "      <td>1.0</td>\n",
       "      <td>1175</td>\n",
       "      <td>2</td>\n",
       "      <td>48</td>\n",
       "      <td>49</td>\n",
       "      <td>43</td>\n",
       "      <td>45</td>\n",
       "      <td></td>\n",
       "      <td></td>\n",
       "    </tr>\n",
       "    <tr>\n",
       "      <th>63</th>\n",
       "      <td>BEN LI</td>\n",
       "      <td>MI</td>\n",
       "      <td>1.0</td>\n",
       "      <td>1163</td>\n",
       "      <td>22</td>\n",
       "      <td>30</td>\n",
       "      <td>31</td>\n",
       "      <td>49</td>\n",
       "      <td>46</td>\n",
       "      <td>42</td>\n",
       "      <td>54</td>\n",
       "    </tr>\n",
       "  </tbody>\n",
       "</table>\n",
       "<p>64 rows × 11 columns</p>\n",
       "</div>"
      ],
      "text/plain": [
       "                        Player_Names State Total Pts Pre_Ratings Round1  \\\n",
       "0   GARY HUA                            ON       6.0        1794     39   \n",
       "1   DAKSHESH DARURI                     MI       6.0        1553     63   \n",
       "2   ADITYA BAJAJ                        MI       6.0        1384      8   \n",
       "3   PATRICK H SCHILLING                 MI       5.5        1716     23   \n",
       "4   HANSHI ZUO                          MI       5.5        1655     45   \n",
       "..                               ...   ...       ...         ...    ...   \n",
       "59  JULIA SHEN                          MI       1.5         967     33   \n",
       "60  JEZZEL FARKAS                       ON       1.5         955     32   \n",
       "61  ASHWIN BALAJI                       MI       1.0        1530     55   \n",
       "62  THOMAS JOSEPH HOSMER                MI       1.0        1175      2   \n",
       "63  BEN LI                              MI       1.0        1163     22   \n",
       "\n",
       "   Round2 Round3 Round4 Round5 Round6 Round7  \n",
       "0      21     18     14      7     12      4  \n",
       "1      58      4     17     16     20      7  \n",
       "2      61     25     21     11     13     12  \n",
       "3      28      2     26      5     19      1  \n",
       "4      37     12     13      4     14     17  \n",
       "..    ...    ...    ...    ...    ...    ...  \n",
       "59     34     45     42     24                \n",
       "60      3     54     47     42     30     37  \n",
       "61                                            \n",
       "62     48     49     43     45                \n",
       "63     30     31     49     46     42     54  \n",
       "\n",
       "[64 rows x 11 columns]"
      ]
     },
     "execution_count": 670,
     "metadata": {},
     "output_type": "execute_result"
    }
   ],
   "source": [
    "# extract names from the dataframe and into list\n",
    "list = str(file['Player Name USCF ID / Rtg (Pre->Post)'].tolist())\n",
    "player_names = re.findall(\"[A-Z]+ [ A-Z-]*\", list)\n",
    "# print(player_names)\n",
    "playerID =[1:65]\n",
    "\n",
    "#extract Pre Ratings\n",
    "ratings = str(re.findall(\"(: [0-9]{2,4})|:\\s+([0-9]{3})\",list))\n",
    "ratings = re.findall(\"[\\d]+\", ratings)\n",
    "# print(ratings)\n",
    "\n",
    "# extract States\n",
    "states = str(file['PairNum'].tolist())\n",
    "states = re.findall(\"[A-Z]{2}\", states)\n",
    "# print(states)\n",
    "# print(len(states))\n",
    "# extract total pts\n",
    "total_pts = str(file['Total Pts'].tolist())\n",
    "total_pts = re.findall(\"\\d\\.\\d\", total_pts)\n",
    "#round1 -round7\n",
    "# it is tricky because some of them are not included with any numbers, hence we need to find the position of all the numbers and abstract them from the list\n",
    "round_list = ['Round1','Round2','Round3','Round4','Round5','Round6','Round7']\n",
    "for n in round_list:\n",
    "    round = str(file[n].tolist())\n",
    "    x = round[5::18]\n",
    "    y = round[6::18]\n",
    "    new = []\n",
    "    for i in range(0,len(x)):\n",
    "        j=x[i]+y[i]\n",
    "        new.append(j)\n",
    "#         if j=='  ':\n",
    "#             z=None\n",
    "#             new.append(z)\n",
    "#         else:\n",
    "#             new.append(j)\n",
    "    if n =='Round1':\n",
    "        round1 = new\n",
    "    if n =='Round2':\n",
    "        round2 = new\n",
    "    if n =='Round3':\n",
    "        round3 = new\n",
    "    if n =='Round4':\n",
    "        round4 = new\n",
    "    if n =='Round5':\n",
    "        round5 = new\n",
    "    if n =='Round6':\n",
    "        round6 = new\n",
    "    if n =='Round7':\n",
    "        round7 = new\n",
    "\n",
    "file_new = pd.DataFrame({\"Player_Names\": player_names, \"State\": states, \"Total Pts\" : total_pts, \"Pre_Ratings\" : ratings,\"Round1\": round1, \"Round2\": round2,\"Round3\": round3,\"Round4\": round4,\"Round5\": round5,\"Round6\": round6,\"Round7\": round7})\n",
    "file_new"
   ]
  },
  {
   "cell_type": "markdown",
   "id": "be33597b",
   "metadata": {},
   "source": [
    "## calculate and process the average pre-tournament rating for each player’s opponents."
   ]
  },
  {
   "cell_type": "code",
   "execution_count": 675,
   "id": "2e7d7f8e",
   "metadata": {},
   "outputs": [
    {
     "name": "stdout",
     "output_type": "stream",
     "text": [
      "['1436', '1175', '1641', '1363', '1242', '1399', '1092', '1384', '1745', '1604', '1423', '1332', '1355', '1270', '1564', '1365', '1382', '1362', '1220', '1348', '1283', '1163', '1716', '1507', '1411', '1291', '1011', '1229', '1056', '935', '917', '955', '967', '1686', '377', '1666', 0, '1712', '1794', '1595', '853', '1663', '1563', 0, '1655', '1438', '1600', '1629', '1579', '1602', '1552', '1522', 0, '1610', '1530', 0, '1649', '1494', '1403', '1449', '1441', '1186', '1553', '1555']\n"
     ]
    }
   ],
   "source": [
    "\n",
    "opp=[]\n",
    "for i in round1:\n",
    "#     print(type(i))\n",
    "    if i =='  ':\n",
    "        j = 0\n",
    "        opp.append(j)\n",
    "    else:\n",
    "        j =int(i)\n",
    "        k=ratings[j-1]\n",
    "        opp.append(k)\n",
    "print(opp)\n",
    "        \n",
    "    \n"
   ]
  },
  {
   "cell_type": "code",
   "execution_count": 684,
   "id": "4ddd4f48",
   "metadata": {},
   "outputs": [
    {
     "ename": "TypeError",
     "evalue": "'str' object is not callable",
     "output_type": "error",
     "traceback": [
      "\u001b[1;31m---------------------------------------------------------------------------\u001b[0m",
      "\u001b[1;31mTypeError\u001b[0m                                 Traceback (most recent call last)",
      "Input \u001b[1;32mIn [684]\u001b[0m, in \u001b[0;36m<cell line: 1>\u001b[1;34m()\u001b[0m\n\u001b[1;32m----> 1\u001b[0m mmm \u001b[38;5;241m=\u001b[39m\u001b[38;5;28;43mlist\u001b[39;49m\u001b[43m(\u001b[49m\u001b[38;5;28;43mrange\u001b[39;49m\u001b[43m(\u001b[49m\u001b[38;5;241;43m1\u001b[39;49m\u001b[43m,\u001b[49m\u001b[38;5;241;43m65\u001b[39;49m\u001b[43m)\u001b[49m\u001b[43m)\u001b[49m\n\u001b[0;32m      2\u001b[0m \u001b[38;5;28mprint\u001b[39m(mmm)\n",
      "\u001b[1;31mTypeError\u001b[0m: 'str' object is not callable"
     ]
    }
   ],
   "source": [
    "#import mean from statistics library\n",
    "from statistics import mean\n",
    "\n",
    "# Creating a list called \"ave_opp_rating\" \n",
    "ave_opp_rating = []\n",
    "\n",
    "# Define i = 0\n",
    "i = 0    \n",
    "\n",
    "# Creaing a list that maintains player opponents rating\n",
    "players_opp_rating = []\n",
    "       \n",
    "# Creating a for loop \n",
    "for oppen_id in numbers_lst:\n",
    "\n",
    "# If the  opponent is empty, then append 0. \n",
    " \n",
    "    if oppen_id == '    ':\n",
    "        players_opp_rating.append(0)\n",
    "        \n",
    "# Find the pre-rating for each opponents by using the index     \n",
    "# Append the pre-rating to new list player_opp_id\n",
    "    else:      \n",
    "        players_opp_rating.append(int(prerating[int(oppen_id)- 1]))\n",
    "        \n",
    "# If i = 7 (7 rounds), we move to the next player. \n",
    "    i += 1\n",
    "    if i == 7:       \n",
    "        i = 0      \n",
    "# Calculating the average of the opponents pre-rating in to a new list called \"ave_opp_rating\" \n",
    "        ave_opp_rating.append(str(int(mean(players_opp_rating))))\n",
    "        players_opp_rating = []\n",
    "             \n",
    "print(ave_opp_rating)\n",
    "print(len(ave_opp_rating))   "
   ]
  },
  {
   "cell_type": "code",
   "execution_count": null,
   "id": "0b0f0bac",
   "metadata": {},
   "outputs": [],
   "source": []
  }
 ],
 "metadata": {
  "kernelspec": {
   "display_name": "Python 3 (ipykernel)",
   "language": "python",
   "name": "python3"
  },
  "language_info": {
   "codemirror_mode": {
    "name": "ipython",
    "version": 3
   },
   "file_extension": ".py",
   "mimetype": "text/x-python",
   "name": "python",
   "nbconvert_exporter": "python",
   "pygments_lexer": "ipython3",
   "version": "3.9.12"
  }
 },
 "nbformat": 4,
 "nbformat_minor": 5
}
