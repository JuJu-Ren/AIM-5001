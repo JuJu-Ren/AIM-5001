{
 "cells": [
  {
   "cell_type": "markdown",
   "id": "146850f7",
   "metadata": {},
   "source": [
    "# AIM 5001 Project 2 (Module 7) \n",
    "\n",
    "###### Juju Ren Oct. 2022\n",
    "# The Sensitivity of Parameters to Labour Income and Statistical Assumptions\n",
    "### Using PostgreSQL + Pandas for Data Management & Analysis\n",
    "\n",
    "## Part 1: Introduction\n",
    "For this project, we will utilize a dataset that evaluates the labour income level. As paremeters for effecting the level of labor income, we have attributes such as Wages, Education level, Age, Sex and Language\n",
    "\n",
    "#### Data Source: https://vincentarelbundock.github.io/Rdatasets/csv/carData/SLID.csv\n",
    "#### Data Description: https://vincentarelbundock.github.io/Rdatasets/doc/carData/SLID.html\n",
    "\n",
    "The SLID data frame has 7425 rows and 5 columns. The data are from the 1994 wave of the Canadian Survey of Labour and Income Dynamics, for the province of Ontario. There are missing data, particularly for wages.\n",
    "\n"
   ]
  },
  {
   "cell_type": "markdown",
   "id": "0fa3c366",
   "metadata": {},
   "source": [
    "## Part2: Data Summary"
   ]
  },
  {
   "cell_type": "code",
   "execution_count": 1,
   "id": "f7d48fee",
   "metadata": {},
   "outputs": [],
   "source": [
    "import pandas as pd\n",
    "import numpy as np\n",
    "import matplotlib.pyplot as plt\n",
    "import datetime\n",
    "import seaborn as sns"
   ]
  },
  {
   "cell_type": "code",
   "execution_count": 2,
   "id": "c6cbd6f9",
   "metadata": {},
   "outputs": [
    {
     "data": {
      "text/plain": [
       "(7425, 6)"
      ]
     },
     "execution_count": 2,
     "metadata": {},
     "output_type": "execute_result"
    }
   ],
   "source": [
    "df = pd.read_csv('https://vincentarelbundock.github.io/Rdatasets/csv/carData/SLID.csv')\n",
    "df.shape"
   ]
  },
  {
   "cell_type": "code",
   "execution_count": 3,
   "id": "298de30e",
   "metadata": {},
   "outputs": [
    {
     "data": {
      "text/html": [
       "<div>\n",
       "<style scoped>\n",
       "    .dataframe tbody tr th:only-of-type {\n",
       "        vertical-align: middle;\n",
       "    }\n",
       "\n",
       "    .dataframe tbody tr th {\n",
       "        vertical-align: top;\n",
       "    }\n",
       "\n",
       "    .dataframe thead th {\n",
       "        text-align: right;\n",
       "    }\n",
       "</style>\n",
       "<table border=\"1\" class=\"dataframe\">\n",
       "  <thead>\n",
       "    <tr style=\"text-align: right;\">\n",
       "      <th></th>\n",
       "      <th>Unnamed: 0</th>\n",
       "      <th>wages</th>\n",
       "      <th>education</th>\n",
       "      <th>age</th>\n",
       "      <th>sex</th>\n",
       "      <th>language</th>\n",
       "    </tr>\n",
       "  </thead>\n",
       "  <tbody>\n",
       "    <tr>\n",
       "      <th>0</th>\n",
       "      <td>1</td>\n",
       "      <td>10.56</td>\n",
       "      <td>15.0</td>\n",
       "      <td>40</td>\n",
       "      <td>Male</td>\n",
       "      <td>English</td>\n",
       "    </tr>\n",
       "    <tr>\n",
       "      <th>1</th>\n",
       "      <td>2</td>\n",
       "      <td>11.00</td>\n",
       "      <td>13.2</td>\n",
       "      <td>19</td>\n",
       "      <td>Male</td>\n",
       "      <td>English</td>\n",
       "    </tr>\n",
       "    <tr>\n",
       "      <th>2</th>\n",
       "      <td>3</td>\n",
       "      <td>NaN</td>\n",
       "      <td>16.0</td>\n",
       "      <td>49</td>\n",
       "      <td>Male</td>\n",
       "      <td>Other</td>\n",
       "    </tr>\n",
       "    <tr>\n",
       "      <th>3</th>\n",
       "      <td>4</td>\n",
       "      <td>17.76</td>\n",
       "      <td>14.0</td>\n",
       "      <td>46</td>\n",
       "      <td>Male</td>\n",
       "      <td>Other</td>\n",
       "    </tr>\n",
       "    <tr>\n",
       "      <th>4</th>\n",
       "      <td>5</td>\n",
       "      <td>NaN</td>\n",
       "      <td>8.0</td>\n",
       "      <td>71</td>\n",
       "      <td>Male</td>\n",
       "      <td>English</td>\n",
       "    </tr>\n",
       "  </tbody>\n",
       "</table>\n",
       "</div>"
      ],
      "text/plain": [
       "   Unnamed: 0  wages  education  age   sex language\n",
       "0           1  10.56       15.0   40  Male  English\n",
       "1           2  11.00       13.2   19  Male  English\n",
       "2           3    NaN       16.0   49  Male    Other\n",
       "3           4  17.76       14.0   46  Male    Other\n",
       "4           5    NaN        8.0   71  Male  English"
      ]
     },
     "execution_count": 3,
     "metadata": {},
     "output_type": "execute_result"
    }
   ],
   "source": [
    "df.head(5)"
   ]
  },
  {
   "cell_type": "code",
   "execution_count": 36,
   "id": "7d57d0c0",
   "metadata": {},
   "outputs": [
    {
     "data": {
      "text/plain": [
       "No.        int64\n",
       "wages    float64\n",
       "edu.     float64\n",
       "age        int64\n",
       "sex       object\n",
       "lg.       object\n",
       "dtype: object"
      ]
     },
     "execution_count": 36,
     "metadata": {},
     "output_type": "execute_result"
    }
   ],
   "source": [
    "df.dtypes"
   ]
  },
  {
   "cell_type": "markdown",
   "id": "62f39e5d",
   "metadata": {},
   "source": [
    "As we can see, the dataset contained 7425 use cases and 6 attributes:\n",
    "these attributes are as follows:\n",
    "1. 'No.': Unique ID\n",
    "2. 'wages': Wages, Composite hourly wage rate from all jobs.\n",
    "3. 'edu.': Education level, Number of years of schooling.\n",
    "4. 'age': Age, in years\n",
    "5. 'sex': Sex, factor with levels: Female, Male\n",
    "6. 'lg.': Language, A factor with levels: English, French, Other."
   ]
  },
  {
   "cell_type": "markdown",
   "id": "3bf709a2",
   "metadata": {},
   "source": [
    "### The porpuse of the project is to find if there is any linear relation between wages and education, age, sex and languase.\n",
    "#### Steps:\n",
    "***\n",
    "1. Create datatable with SQL, and import data from SQL portal\n",
    "2. Clean data- delete all null value rows\n",
    "3. Run Description Statistical Analysis with all parameters individually\n",
    "4. Use OLS method to fit Wage and Numerical Variables\n",
    "5. Use OLS method to fit Wage and all variables\n",
    "6. Plot residuals and the X-Y figure\n",
    "7. Give conclusion\n",
    "***"
   ]
  },
  {
   "cell_type": "markdown",
   "id": "883880c7",
   "metadata": {},
   "source": [
    "## Part3. Data Management using PostgreSQL\n",
    "### 1. Create a fully normalized SQL database schema for the data you’ve chosen to work with. "
   ]
  },
  {
   "cell_type": "raw",
   "id": "7bd69317",
   "metadata": {},
   "source": [
    "CREATE TABLE IF NOT EXISTS public.\"SLID\"\n",
    "(\n",
    "    \"No.\" integer NOT NULL,\n",
    "    wages numeric,\n",
    "    education numeric,\n",
    "    age integer,\n",
    "    sex \"char\",\n",
    "    language \"char\",\n",
    "    CONSTRAINT \"SLID_pkey\" PRIMARY KEY (\"No.\")\n",
    ")\n",
    "\n",
    "TABLESPACE pg_default;\n",
    "\n",
    "ALTER TABLE IF EXISTS public.\"SLID\"\n",
    "    OWNER to postgres;"
   ]
  },
  {
   "cell_type": "markdown",
   "id": "6e25d887",
   "metadata": {},
   "source": [
    "### 2. Create an ER diagram for your proposed schema. "
   ]
  },
  {
   "attachments": {
    "image-2.png": {
     "image/png": "[encoded data removed]"
    },
    "image.png": {
     "image/png": "[encoded data removed]"
    }
   },
   "cell_type": "markdown",
   "id": "0f922f34",
   "metadata": {},
   "source": [
    "![image.png](attachment:image.png) \n",
    "![image-2.png](attachment:image-2.png)"
   ]
  },
  {
   "cell_type": "markdown",
   "id": "f73079a3",
   "metadata": {},
   "source": [
    "### 3. Formulate SQL statements that will create your proposed database and tables within PostgreSQL, including any required primary and foreign keys."
   ]
  },
  {
   "cell_type": "markdown",
   "id": "30e3c219",
   "metadata": {},
   "source": [
    "PRIMARY KEY (No.)"
   ]
  },
  {
   "cell_type": "markdown",
   "id": "62d04300",
   "metadata": {},
   "source": [
    "### 4. Open your PostgreSQL psql terminal and execute the SQL statements you have written to create your proposed database within your PostgreSQL"
   ]
  },
  {
   "attachments": {
    "image.png": {
     "image/png": "[encoded data removed]"
    }
   },
   "cell_type": "markdown",
   "id": "e016d1ec",
   "metadata": {},
   "source": [
    "![image.png](attachment:image.png)"
   ]
  },
  {
   "cell_type": "markdown",
   "id": "238b39b9",
   "metadata": {},
   "source": [
    "### 5. Connect to your PostgreSQL server from within your Jupyter Notebook environment and use your knowledge of Python, Pandas, and SQL to load your data set into your new PostgreSQL database. Be sure to include a query that verifies the successful execution of your SQL statements."
   ]
  },
  {
   "cell_type": "code",
   "execution_count": 10,
   "id": "113aa8ae",
   "metadata": {},
   "outputs": [],
   "source": [
    "import pandas as pd\n",
    "import pandas.io.sql as sqlio\n",
    "import psycopg2 as ps"
   ]
  },
  {
   "cell_type": "code",
   "execution_count": 11,
   "id": "4fff6582",
   "metadata": {},
   "outputs": [],
   "source": [
    "conn = ps.connect(dbname=\"postgres\",\n",
    "                   user = \"postgres\",\n",
    "                   password = ***,\n",
    "                   host = \"localhost\",\n",
    "                   port =\"5432\")"
   ]
  },
  {
   "cell_type": "code",
   "execution_count": 12,
   "id": "f9f567f7",
   "metadata": {},
   "outputs": [],
   "source": [
    "sql = \"\"\"select * from \"SLID\" \"\"\" "
   ]
  },
  {
   "cell_type": "code",
   "execution_count": 15,
   "id": "d302657e",
   "metadata": {},
   "outputs": [
    {
     "name": "stderr",
     "output_type": "stream",
     "text": [
      "C:\\Users\\Jiuge\\anaconda3\\lib\\site-packages\\pandas\\io\\sql.py:761: UserWarning: pandas only support SQLAlchemy connectable(engine/connection) ordatabase string URI or sqlite3 DBAPI2 connectionother DBAPI2 objects are not tested, please consider using SQLAlchemy\n",
      "  warnings.warn(\n"
     ]
    }
   ],
   "source": [
    "df = sqlio.read_sql_query(sql, conn)"
   ]
  },
  {
   "cell_type": "markdown",
   "id": "1ddf539d",
   "metadata": {},
   "source": [
    "### 6. Using your knowledge of Python, Pandas, and PostgreSQL, read your dataset from your new PostgreSQL database into a new Pandas dataframe within your Jupyter Notebook, using whatever SQL statements and Python logic you believe to be appropriate."
   ]
  },
  {
   "cell_type": "code",
   "execution_count": 16,
   "id": "4ef82827",
   "metadata": {},
   "outputs": [
    {
     "data": {
      "text/html": [
       "<div>\n",
       "<style scoped>\n",
       "    .dataframe tbody tr th:only-of-type {\n",
       "        vertical-align: middle;\n",
       "    }\n",
       "\n",
       "    .dataframe tbody tr th {\n",
       "        vertical-align: top;\n",
       "    }\n",
       "\n",
       "    .dataframe thead th {\n",
       "        text-align: right;\n",
       "    }\n",
       "</style>\n",
       "<table border=\"1\" class=\"dataframe\">\n",
       "  <thead>\n",
       "    <tr style=\"text-align: right;\">\n",
       "      <th></th>\n",
       "      <th>No.</th>\n",
       "      <th>wages</th>\n",
       "      <th>education</th>\n",
       "      <th>age</th>\n",
       "      <th>sex</th>\n",
       "      <th>language</th>\n",
       "    </tr>\n",
       "  </thead>\n",
       "  <tbody>\n",
       "    <tr>\n",
       "      <th>0</th>\n",
       "      <td>1</td>\n",
       "      <td>10.56</td>\n",
       "      <td>15.0</td>\n",
       "      <td>40</td>\n",
       "      <td>M</td>\n",
       "      <td>E</td>\n",
       "    </tr>\n",
       "    <tr>\n",
       "      <th>1</th>\n",
       "      <td>2</td>\n",
       "      <td>11.00</td>\n",
       "      <td>13.2</td>\n",
       "      <td>19</td>\n",
       "      <td>M</td>\n",
       "      <td>E</td>\n",
       "    </tr>\n",
       "    <tr>\n",
       "      <th>2</th>\n",
       "      <td>3</td>\n",
       "      <td>NaN</td>\n",
       "      <td>16.0</td>\n",
       "      <td>49</td>\n",
       "      <td>M</td>\n",
       "      <td>O</td>\n",
       "    </tr>\n",
       "  </tbody>\n",
       "</table>\n",
       "</div>"
      ],
      "text/plain": [
       "   No.  wages  education  age sex language\n",
       "0    1  10.56       15.0   40   M        E\n",
       "1    2  11.00       13.2   19   M        E\n",
       "2    3    NaN       16.0   49   M        O"
      ]
     },
     "execution_count": 16,
     "metadata": {},
     "output_type": "execute_result"
    }
   ],
   "source": [
    "df.head(3)"
   ]
  },
  {
   "cell_type": "code",
   "execution_count": 21,
   "id": "f112fdba",
   "metadata": {},
   "outputs": [
    {
     "data": {
      "text/html": [
       "<div>\n",
       "<style scoped>\n",
       "    .dataframe tbody tr th:only-of-type {\n",
       "        vertical-align: middle;\n",
       "    }\n",
       "\n",
       "    .dataframe tbody tr th {\n",
       "        vertical-align: top;\n",
       "    }\n",
       "\n",
       "    .dataframe thead th {\n",
       "        text-align: right;\n",
       "    }\n",
       "</style>\n",
       "<table border=\"1\" class=\"dataframe\">\n",
       "  <thead>\n",
       "    <tr style=\"text-align: right;\">\n",
       "      <th></th>\n",
       "      <th>No.</th>\n",
       "      <th>wages</th>\n",
       "      <th>edu.</th>\n",
       "      <th>age</th>\n",
       "      <th>sex</th>\n",
       "      <th>lg.</th>\n",
       "    </tr>\n",
       "  </thead>\n",
       "  <tbody>\n",
       "    <tr>\n",
       "      <th>0</th>\n",
       "      <td>1</td>\n",
       "      <td>10.56</td>\n",
       "      <td>15.0</td>\n",
       "      <td>40</td>\n",
       "      <td>M</td>\n",
       "      <td>E</td>\n",
       "    </tr>\n",
       "    <tr>\n",
       "      <th>1</th>\n",
       "      <td>2</td>\n",
       "      <td>11.00</td>\n",
       "      <td>13.2</td>\n",
       "      <td>19</td>\n",
       "      <td>M</td>\n",
       "      <td>E</td>\n",
       "    </tr>\n",
       "    <tr>\n",
       "      <th>2</th>\n",
       "      <td>3</td>\n",
       "      <td>NaN</td>\n",
       "      <td>16.0</td>\n",
       "      <td>49</td>\n",
       "      <td>M</td>\n",
       "      <td>O</td>\n",
       "    </tr>\n",
       "  </tbody>\n",
       "</table>\n",
       "</div>"
      ],
      "text/plain": [
       "   No.  wages  edu.  age sex lg.\n",
       "0    1  10.56  15.0   40   M   E\n",
       "1    2  11.00  13.2   19   M   E\n",
       "2    3    NaN  16.0   49   M   O"
      ]
     },
     "execution_count": 21,
     "metadata": {},
     "output_type": "execute_result"
    }
   ],
   "source": [
    "df=df.rename(columns={'education':'edu.','language':'lg.'})\n",
    "df.head(3)"
   ]
  },
  {
   "cell_type": "code",
   "execution_count": 37,
   "id": "fb7df30e",
   "metadata": {},
   "outputs": [
    {
     "data": {
      "text/plain": [
       "No.         0\n",
       "wages    3278\n",
       "edu.      249\n",
       "age         0\n",
       "sex         0\n",
       "lg.       121\n",
       "dtype: int64"
      ]
     },
     "execution_count": 37,
     "metadata": {},
     "output_type": "execute_result"
    }
   ],
   "source": [
    "# check null in the dataset\n",
    "df.isnull().sum()"
   ]
  },
  {
   "cell_type": "code",
   "execution_count": 38,
   "id": "17ff42b7",
   "metadata": {},
   "outputs": [
    {
     "data": {
      "text/plain": [
       "(3987, 6)"
      ]
     },
     "execution_count": 38,
     "metadata": {},
     "output_type": "execute_result"
    }
   ],
   "source": [
    "# drop all null rows\n",
    "df = df.dropna()\n",
    "df.shape"
   ]
  },
  {
   "cell_type": "code",
   "execution_count": 40,
   "id": "e48af236",
   "metadata": {},
   "outputs": [
    {
     "data": {
      "text/plain": [
       "No.      0\n",
       "wages    0\n",
       "edu.     0\n",
       "age      0\n",
       "sex      0\n",
       "lg.      0\n",
       "dtype: int64"
      ]
     },
     "execution_count": 40,
     "metadata": {},
     "output_type": "execute_result"
    }
   ],
   "source": [
    "# check the null in dataset again\n",
    "df.isnull().sum()"
   ]
  },
  {
   "cell_type": "markdown",
   "id": "06456b6b",
   "metadata": {},
   "source": [
    "There is no null in dataset\n",
    "#### Note: wage, education and age are three numeric variables, and the sex and language are the categorical variable"
   ]
  },
  {
   "cell_type": "markdown",
   "id": "3b6bc418",
   "metadata": {},
   "source": [
    "## Part4. Exploratory Data Analysis(EDA)\n",
    "### Summary Statistics"
   ]
  },
  {
   "cell_type": "code",
   "execution_count": 41,
   "id": "98e21dda",
   "metadata": {},
   "outputs": [
    {
     "data": {
      "text/html": [
       "<div>\n",
       "<style scoped>\n",
       "    .dataframe tbody tr th:only-of-type {\n",
       "        vertical-align: middle;\n",
       "    }\n",
       "\n",
       "    .dataframe tbody tr th {\n",
       "        vertical-align: top;\n",
       "    }\n",
       "\n",
       "    .dataframe thead th {\n",
       "        text-align: right;\n",
       "    }\n",
       "</style>\n",
       "<table border=\"1\" class=\"dataframe\">\n",
       "  <thead>\n",
       "    <tr style=\"text-align: right;\">\n",
       "      <th></th>\n",
       "      <th>count</th>\n",
       "      <th>mean</th>\n",
       "      <th>std</th>\n",
       "      <th>min</th>\n",
       "      <th>25%</th>\n",
       "      <th>50%</th>\n",
       "      <th>75%</th>\n",
       "      <th>max</th>\n",
       "    </tr>\n",
       "  </thead>\n",
       "  <tbody>\n",
       "    <tr>\n",
       "      <th>No.</th>\n",
       "      <td>3987.0</td>\n",
       "      <td>3711.383246</td>\n",
       "      <td>2145.823237</td>\n",
       "      <td>1.0</td>\n",
       "      <td>1836.50</td>\n",
       "      <td>3698.00</td>\n",
       "      <td>5583.00</td>\n",
       "      <td>7425.00</td>\n",
       "    </tr>\n",
       "    <tr>\n",
       "      <th>wages</th>\n",
       "      <td>3987.0</td>\n",
       "      <td>15.538753</td>\n",
       "      <td>7.868565</td>\n",
       "      <td>2.3</td>\n",
       "      <td>9.25</td>\n",
       "      <td>14.13</td>\n",
       "      <td>19.72</td>\n",
       "      <td>49.92</td>\n",
       "    </tr>\n",
       "    <tr>\n",
       "      <th>edu.</th>\n",
       "      <td>3987.0</td>\n",
       "      <td>13.337045</td>\n",
       "      <td>3.038134</td>\n",
       "      <td>0.0</td>\n",
       "      <td>12.00</td>\n",
       "      <td>13.00</td>\n",
       "      <td>15.10</td>\n",
       "      <td>20.00</td>\n",
       "    </tr>\n",
       "    <tr>\n",
       "      <th>age</th>\n",
       "      <td>3987.0</td>\n",
       "      <td>37.098069</td>\n",
       "      <td>12.137226</td>\n",
       "      <td>16.0</td>\n",
       "      <td>28.00</td>\n",
       "      <td>36.00</td>\n",
       "      <td>46.00</td>\n",
       "      <td>69.00</td>\n",
       "    </tr>\n",
       "  </tbody>\n",
       "</table>\n",
       "</div>"
      ],
      "text/plain": [
       "        count         mean          std   min      25%      50%      75%  \\\n",
       "No.    3987.0  3711.383246  2145.823237   1.0  1836.50  3698.00  5583.00   \n",
       "wages  3987.0    15.538753     7.868565   2.3     9.25    14.13    19.72   \n",
       "edu.   3987.0    13.337045     3.038134   0.0    12.00    13.00    15.10   \n",
       "age    3987.0    37.098069    12.137226  16.0    28.00    36.00    46.00   \n",
       "\n",
       "           max  \n",
       "No.    7425.00  \n",
       "wages    49.92  \n",
       "edu.     20.00  \n",
       "age      69.00  "
      ]
     },
     "execution_count": 41,
     "metadata": {},
     "output_type": "execute_result"
    }
   ],
   "source": [
    "#describe the dataset\n",
    "describe = df.describe().T\n",
    "describe"
   ]
  },
  {
   "cell_type": "markdown",
   "id": "fd13b1be",
   "metadata": {},
   "source": [
    "- The description of the 'No.' is not useful because it is a unique ID\n",
    "- Hourly wage rate description in 1994 is showing that the mean wage is $15/hour\n",
    "- education in school years is showing the average education level is 13.34 years\n",
    "- the average age level is 37.09 years."
   ]
  },
  {
   "cell_type": "markdown",
   "id": "08930c9c",
   "metadata": {},
   "source": [
    "### Sample Class:Numerical Samples Count"
   ]
  },
  {
   "cell_type": "markdown",
   "id": "ecc2d3ea",
   "metadata": {},
   "source": [
    "### Wages"
   ]
  },
  {
   "cell_type": "code",
   "execution_count": 42,
   "id": "7e241192",
   "metadata": {},
   "outputs": [
    {
     "data": {
      "text/plain": [
       "Text(0.5, 1.0, 'Wages Histogram')"
      ]
     },
     "execution_count": 42,
     "metadata": {},
     "output_type": "execute_result"
    },
    {
     "data": {
      "image/png": "[encoded data removed]",
      "text/plain": [
       "<Figure size 360x360 with 1 Axes>"
      ]
     },
     "metadata": {},
     "output_type": "display_data"
    }
   ],
   "source": [
    "# seaborn histogram\n",
    "sns.displot( df[\"wages\"]),sns.set(style='dark')\n",
    "plt.xlabel(\"$/hr\"),plt.ylabel(\"Frequency\")\n",
    "plt.title(\"Wages Histogram\",fontsize=16) "
   ]
  },
  {
   "cell_type": "markdown",
   "id": "1b517c73",
   "metadata": {},
   "source": [
    "### Edu."
   ]
  },
  {
   "cell_type": "code",
   "execution_count": 43,
   "id": "95d24708",
   "metadata": {},
   "outputs": [
    {
     "data": {
      "text/plain": [
       "Text(0.5, 1.0, 'School Year Histogram')"
      ]
     },
     "execution_count": 43,
     "metadata": {},
     "output_type": "execute_result"
    },
    {
     "data": {
      "image/png": "[encoded data removed]",
      "text/plain": [
       "<Figure size 360x360 with 1 Axes>"
      ]
     },
     "metadata": {},
     "output_type": "display_data"
    }
   ],
   "source": [
    "# seaborn histogram\n",
    "sns.displot( df[\"edu.\"]),sns.set(style='dark')\n",
    "plt.xlabel(\"year\"),plt.ylabel(\"Frequency\") \n",
    "plt.title(\"School Year Histogram\",fontsize=16) "
   ]
  },
  {
   "cell_type": "markdown",
   "id": "665d989c",
   "metadata": {},
   "source": [
    "### Age"
   ]
  },
  {
   "cell_type": "code",
   "execution_count": 44,
   "id": "ac3d7f1d",
   "metadata": {},
   "outputs": [
    {
     "data": {
      "text/plain": [
       "Text(0.5, 1.0, 'Education Histogram')"
      ]
     },
     "execution_count": 44,
     "metadata": {},
     "output_type": "execute_result"
    },
    {
     "data": {
      "image/png": "[encoded data removed]",
      "text/plain": [
       "<Figure size 360x360 with 1 Axes>"
      ]
     },
     "metadata": {},
     "output_type": "display_data"
    }
   ],
   "source": [
    "# seaborn histogram\n",
    "sns.displot( df[\"age\"]),sns.set(style='dark')\n",
    "plt.xlabel(\"year\"),plt.ylabel(\"Frequency\") \n",
    "plt.title(\"Education Histogram\",fontsize=16) "
   ]
  },
  {
   "cell_type": "markdown",
   "id": "23ac227f",
   "metadata": {},
   "source": [
    "### Sample Class: Categorized Samples Count"
   ]
  },
  {
   "cell_type": "markdown",
   "id": "853717ca",
   "metadata": {},
   "source": [
    "### Sex"
   ]
  },
  {
   "cell_type": "code",
   "execution_count": 45,
   "id": "6aa0d934",
   "metadata": {},
   "outputs": [
    {
     "data": {
      "text/plain": [
       "F    2001\n",
       "M    1986\n",
       "Name: sex, dtype: int64"
      ]
     },
     "execution_count": 45,
     "metadata": {},
     "output_type": "execute_result"
    }
   ],
   "source": [
    "#count samples in sex\n",
    "Count= df['sex'].value_counts()\n",
    "Count"
   ]
  },
  {
   "cell_type": "code",
   "execution_count": 46,
   "id": "2d2d2ed7",
   "metadata": {},
   "outputs": [
    {
     "data": {
      "image/png": "[encoded data removed]",
      "text/plain": [
       "<Figure size 432x288 with 1 Axes>"
      ]
     },
     "metadata": {},
     "output_type": "display_data"
    },
    {
     "data": {
      "text/plain": [
       "(Text(0.5, 1.0, 'Sex Frequency'), None)"
      ]
     },
     "execution_count": 46,
     "metadata": {},
     "output_type": "execute_result"
    }
   ],
   "source": [
    "# obtain counts for each value in sex\n",
    "counts = df['sex'].value_counts()\n",
    "# matplotlib frequency bar of sex\n",
    "plt.bar(counts.index, counts.values)\n",
    "plt.xlabel(\"Sex\"),plt.ylabel(\"Frequency\") \n",
    "plt.title(\"Sex Frequency\", fontsize=16),plt.show()"
   ]
  },
  {
   "cell_type": "markdown",
   "id": "dd983942",
   "metadata": {},
   "source": [
    "### Language"
   ]
  },
  {
   "cell_type": "markdown",
   "id": "e4050dec",
   "metadata": {},
   "source": [
    "We can see that the sample includes half Female and half Male"
   ]
  },
  {
   "cell_type": "code",
   "execution_count": 47,
   "id": "3d86da42",
   "metadata": {},
   "outputs": [
    {
     "data": {
      "text/plain": [
       "E    3244\n",
       "O     484\n",
       "F     259\n",
       "Name: lg., dtype: int64"
      ]
     },
     "execution_count": 47,
     "metadata": {},
     "output_type": "execute_result"
    }
   ],
   "source": [
    "#count samples per sample class\n",
    "Count= df['lg.'].value_counts()\n",
    "Count"
   ]
  },
  {
   "cell_type": "code",
   "execution_count": 48,
   "id": "dbc0805f",
   "metadata": {},
   "outputs": [
    {
     "data": {
      "image/png": "[encoded data removed]",
      "text/plain": [
       "<Figure size 432x288 with 1 Axes>"
      ]
     },
     "metadata": {},
     "output_type": "display_data"
    },
    {
     "data": {
      "text/plain": [
       "(Text(0.5, 1.0, 'Language Frequency'), None)"
      ]
     },
     "execution_count": 48,
     "metadata": {},
     "output_type": "execute_result"
    }
   ],
   "source": [
    "# obtain counts for each value in sex\n",
    "counts = df['lg.'].value_counts()\n",
    "# matplotlib frequency bar of sex\n",
    "plt.bar(counts.index, counts.values)\n",
    "plt.xlabel(\"Language\"),plt.ylabel(\"Frequency\") \n",
    "plt.title(\"Language Frequency\", fontsize=16),plt.show()"
   ]
  },
  {
   "cell_type": "markdown",
   "id": "987dfb5a",
   "metadata": {},
   "source": [
    "## Part 5: Inference"
   ]
  },
  {
   "cell_type": "markdown",
   "id": "5b9a8aef",
   "metadata": {},
   "source": [
    "### 1. Determine the relationship between Wages and other parameters"
   ]
  },
  {
   "cell_type": "code",
   "execution_count": 49,
   "id": "0d8dbca8",
   "metadata": {},
   "outputs": [
    {
     "data": {
      "text/html": [
       "<div>\n",
       "<style scoped>\n",
       "    .dataframe tbody tr th:only-of-type {\n",
       "        vertical-align: middle;\n",
       "    }\n",
       "\n",
       "    .dataframe tbody tr th {\n",
       "        vertical-align: top;\n",
       "    }\n",
       "\n",
       "    .dataframe thead th {\n",
       "        text-align: right;\n",
       "    }\n",
       "</style>\n",
       "<table border=\"1\" class=\"dataframe\">\n",
       "  <thead>\n",
       "    <tr style=\"text-align: right;\">\n",
       "      <th></th>\n",
       "      <th>No.</th>\n",
       "      <th>wages</th>\n",
       "      <th>edu.</th>\n",
       "      <th>age</th>\n",
       "      <th>sex</th>\n",
       "      <th>lg.</th>\n",
       "    </tr>\n",
       "  </thead>\n",
       "  <tbody>\n",
       "    <tr>\n",
       "      <th>0</th>\n",
       "      <td>1</td>\n",
       "      <td>10.56</td>\n",
       "      <td>15.0</td>\n",
       "      <td>40</td>\n",
       "      <td>M</td>\n",
       "      <td>E</td>\n",
       "    </tr>\n",
       "    <tr>\n",
       "      <th>1</th>\n",
       "      <td>2</td>\n",
       "      <td>11.00</td>\n",
       "      <td>13.2</td>\n",
       "      <td>19</td>\n",
       "      <td>M</td>\n",
       "      <td>E</td>\n",
       "    </tr>\n",
       "    <tr>\n",
       "      <th>3</th>\n",
       "      <td>4</td>\n",
       "      <td>17.76</td>\n",
       "      <td>14.0</td>\n",
       "      <td>46</td>\n",
       "      <td>M</td>\n",
       "      <td>O</td>\n",
       "    </tr>\n",
       "    <tr>\n",
       "      <th>5</th>\n",
       "      <td>6</td>\n",
       "      <td>14.00</td>\n",
       "      <td>16.0</td>\n",
       "      <td>50</td>\n",
       "      <td>F</td>\n",
       "      <td>E</td>\n",
       "    </tr>\n",
       "    <tr>\n",
       "      <th>8</th>\n",
       "      <td>9</td>\n",
       "      <td>8.20</td>\n",
       "      <td>15.0</td>\n",
       "      <td>31</td>\n",
       "      <td>M</td>\n",
       "      <td>E</td>\n",
       "    </tr>\n",
       "    <tr>\n",
       "      <th>...</th>\n",
       "      <td>...</td>\n",
       "      <td>...</td>\n",
       "      <td>...</td>\n",
       "      <td>...</td>\n",
       "      <td>...</td>\n",
       "      <td>...</td>\n",
       "    </tr>\n",
       "    <tr>\n",
       "      <th>7417</th>\n",
       "      <td>7418</td>\n",
       "      <td>6.80</td>\n",
       "      <td>13.1</td>\n",
       "      <td>20</td>\n",
       "      <td>M</td>\n",
       "      <td>E</td>\n",
       "    </tr>\n",
       "    <tr>\n",
       "      <th>7421</th>\n",
       "      <td>7422</td>\n",
       "      <td>30.49</td>\n",
       "      <td>16.0</td>\n",
       "      <td>52</td>\n",
       "      <td>M</td>\n",
       "      <td>O</td>\n",
       "    </tr>\n",
       "    <tr>\n",
       "      <th>7422</th>\n",
       "      <td>7423</td>\n",
       "      <td>22.00</td>\n",
       "      <td>15.0</td>\n",
       "      <td>41</td>\n",
       "      <td>M</td>\n",
       "      <td>O</td>\n",
       "    </tr>\n",
       "    <tr>\n",
       "      <th>7423</th>\n",
       "      <td>7424</td>\n",
       "      <td>11.85</td>\n",
       "      <td>11.0</td>\n",
       "      <td>47</td>\n",
       "      <td>F</td>\n",
       "      <td>E</td>\n",
       "    </tr>\n",
       "    <tr>\n",
       "      <th>7424</th>\n",
       "      <td>7425</td>\n",
       "      <td>23.00</td>\n",
       "      <td>14.0</td>\n",
       "      <td>30</td>\n",
       "      <td>M</td>\n",
       "      <td>E</td>\n",
       "    </tr>\n",
       "  </tbody>\n",
       "</table>\n",
       "<p>3987 rows × 6 columns</p>\n",
       "</div>"
      ],
      "text/plain": [
       "       No.  wages  edu.  age sex lg.\n",
       "0        1  10.56  15.0   40   M   E\n",
       "1        2  11.00  13.2   19   M   E\n",
       "3        4  17.76  14.0   46   M   O\n",
       "5        6  14.00  16.0   50   F   E\n",
       "8        9   8.20  15.0   31   M   E\n",
       "...    ...    ...   ...  ...  ..  ..\n",
       "7417  7418   6.80  13.1   20   M   E\n",
       "7421  7422  30.49  16.0   52   M   O\n",
       "7422  7423  22.00  15.0   41   M   O\n",
       "7423  7424  11.85  11.0   47   F   E\n",
       "7424  7425  23.00  14.0   30   M   E\n",
       "\n",
       "[3987 rows x 6 columns]"
      ]
     },
     "execution_count": 49,
     "metadata": {},
     "output_type": "execute_result"
    }
   ],
   "source": [
    "df"
   ]
  },
  {
   "cell_type": "code",
   "execution_count": 50,
   "id": "7b7b6ea5",
   "metadata": {},
   "outputs": [],
   "source": [
    "import statsmodels.api as sm\n",
    "Y = df['wages']\n",
    "X = df[['edu.','age']]\n",
    "X = sm.add_constant(X)"
   ]
  },
  {
   "cell_type": "code",
   "execution_count": 51,
   "id": "c66ff632",
   "metadata": {},
   "outputs": [
    {
     "data": {
      "text/html": [
       "<table class=\"simpletable\">\n",
       "<caption>OLS Regression Results</caption>\n",
       "<tr>\n",
       "  <th>Dep. Variable:</th>          <td>wages</td>      <th>  R-squared:         </th> <td>   0.249</td> \n",
       "</tr>\n",
       "<tr>\n",
       "  <th>Model:</th>                   <td>OLS</td>       <th>  Adj. R-squared:    </th> <td>   0.249</td> \n",
       "</tr>\n",
       "<tr>\n",
       "  <th>Method:</th>             <td>Least Squares</td>  <th>  F-statistic:       </th> <td>   660.7</td> \n",
       "</tr>\n",
       "<tr>\n",
       "  <th>Date:</th>             <td>Sun, 16 Oct 2022</td> <th>  Prob (F-statistic):</th> <td>1.56e-248</td>\n",
       "</tr>\n",
       "<tr>\n",
       "  <th>Time:</th>                 <td>21:45:43</td>     <th>  Log-Likelihood:    </th> <td> -13310.</td> \n",
       "</tr>\n",
       "<tr>\n",
       "  <th>No. Observations:</th>      <td>  3987</td>      <th>  AIC:               </th> <td>2.663e+04</td>\n",
       "</tr>\n",
       "<tr>\n",
       "  <th>Df Residuals:</th>          <td>  3984</td>      <th>  BIC:               </th> <td>2.665e+04</td>\n",
       "</tr>\n",
       "<tr>\n",
       "  <th>Df Model:</th>              <td>     2</td>      <th>                     </th>     <td> </td>    \n",
       "</tr>\n",
       "<tr>\n",
       "  <th>Covariance Type:</th>      <td>nonrobust</td>    <th>                     </th>     <td> </td>    \n",
       "</tr>\n",
       "</table>\n",
       "<table class=\"simpletable\">\n",
       "<tr>\n",
       "    <td></td>       <th>coef</th>     <th>std err</th>      <th>t</th>      <th>P>|t|</th>  <th>[0.025</th>    <th>0.975]</th>  \n",
       "</tr>\n",
       "<tr>\n",
       "  <th>const</th> <td>   -6.0217</td> <td>    0.619</td> <td>   -9.729</td> <td> 0.000</td> <td>   -7.235</td> <td>   -4.808</td>\n",
       "</tr>\n",
       "<tr>\n",
       "  <th>edu.</th>  <td>    0.9015</td> <td>    0.036</td> <td>   25.209</td> <td> 0.000</td> <td>    0.831</td> <td>    0.972</td>\n",
       "</tr>\n",
       "<tr>\n",
       "  <th>age</th>   <td>    0.2571</td> <td>    0.009</td> <td>   28.721</td> <td> 0.000</td> <td>    0.240</td> <td>    0.275</td>\n",
       "</tr>\n",
       "</table>\n",
       "<table class=\"simpletable\">\n",
       "<tr>\n",
       "  <th>Omnibus:</th>       <td>561.750</td> <th>  Durbin-Watson:     </th> <td>   1.959</td> \n",
       "</tr>\n",
       "<tr>\n",
       "  <th>Prob(Omnibus):</th> <td> 0.000</td>  <th>  Jarque-Bera (JB):  </th> <td>1092.696</td> \n",
       "</tr>\n",
       "<tr>\n",
       "  <th>Skew:</th>          <td> 0.878</td>  <th>  Prob(JB):          </th> <td>5.30e-238</td>\n",
       "</tr>\n",
       "<tr>\n",
       "  <th>Kurtosis:</th>      <td> 4.870</td>  <th>  Cond. No.          </th> <td>    236.</td> \n",
       "</tr>\n",
       "</table><br/><br/>Notes:<br/>[1] Standard Errors assume that the covariance matrix of the errors is correctly specified."
      ],
      "text/plain": [
       "<class 'statsmodels.iolib.summary.Summary'>\n",
       "\"\"\"\n",
       "                            OLS Regression Results                            \n",
       "==============================================================================\n",
       "Dep. Variable:                  wages   R-squared:                       0.249\n",
       "Model:                            OLS   Adj. R-squared:                  0.249\n",
       "Method:                 Least Squares   F-statistic:                     660.7\n",
       "Date:                Sun, 16 Oct 2022   Prob (F-statistic):          1.56e-248\n",
       "Time:                        21:45:43   Log-Likelihood:                -13310.\n",
       "No. Observations:                3987   AIC:                         2.663e+04\n",
       "Df Residuals:                    3984   BIC:                         2.665e+04\n",
       "Df Model:                           2                                         \n",
       "Covariance Type:            nonrobust                                         \n",
       "==============================================================================\n",
       "                 coef    std err          t      P>|t|      [0.025      0.975]\n",
       "------------------------------------------------------------------------------\n",
       "const         -6.0217      0.619     -9.729      0.000      -7.235      -4.808\n",
       "edu.           0.9015      0.036     25.209      0.000       0.831       0.972\n",
       "age            0.2571      0.009     28.721      0.000       0.240       0.275\n",
       "==============================================================================\n",
       "Omnibus:                      561.750   Durbin-Watson:                   1.959\n",
       "Prob(Omnibus):                  0.000   Jarque-Bera (JB):             1092.696\n",
       "Skew:                           0.878   Prob(JB):                    5.30e-238\n",
       "Kurtosis:                       4.870   Cond. No.                         236.\n",
       "==============================================================================\n",
       "\n",
       "Notes:\n",
       "[1] Standard Errors assume that the covariance matrix of the errors is correctly specified.\n",
       "\"\"\""
      ]
     },
     "execution_count": 51,
     "metadata": {},
     "output_type": "execute_result"
    }
   ],
   "source": [
    "ks = sm.OLS(Y, X)\n",
    "ks_r =ks.fit()\n",
    "ks_r.summary()"
   ]
  },
  {
   "cell_type": "code",
   "execution_count": 52,
   "id": "17ec3ed8",
   "metadata": {},
   "outputs": [
    {
     "data": {
      "text/html": [
       "<div>\n",
       "<style scoped>\n",
       "    .dataframe tbody tr th:only-of-type {\n",
       "        vertical-align: middle;\n",
       "    }\n",
       "\n",
       "    .dataframe tbody tr th {\n",
       "        vertical-align: top;\n",
       "    }\n",
       "\n",
       "    .dataframe thead th {\n",
       "        text-align: right;\n",
       "    }\n",
       "</style>\n",
       "<table border=\"1\" class=\"dataframe\">\n",
       "  <thead>\n",
       "    <tr style=\"text-align: right;\">\n",
       "      <th></th>\n",
       "      <th>F</th>\n",
       "      <th>M</th>\n",
       "    </tr>\n",
       "  </thead>\n",
       "  <tbody>\n",
       "    <tr>\n",
       "      <th>0</th>\n",
       "      <td>0</td>\n",
       "      <td>1</td>\n",
       "    </tr>\n",
       "    <tr>\n",
       "      <th>1</th>\n",
       "      <td>0</td>\n",
       "      <td>1</td>\n",
       "    </tr>\n",
       "    <tr>\n",
       "      <th>3</th>\n",
       "      <td>0</td>\n",
       "      <td>1</td>\n",
       "    </tr>\n",
       "  </tbody>\n",
       "</table>\n",
       "</div>"
      ],
      "text/plain": [
       "   F  M\n",
       "0  0  1\n",
       "1  0  1\n",
       "3  0  1"
      ]
     },
     "execution_count": 52,
     "metadata": {},
     "output_type": "execute_result"
    }
   ],
   "source": [
    "sex_d = pd.get_dummies(df['sex'])\n",
    "sex_d.head(3)"
   ]
  },
  {
   "cell_type": "markdown",
   "id": "e3f04bc1",
   "metadata": {},
   "source": [
    "the two colmuns are connected, we can just keep the first column"
   ]
  },
  {
   "cell_type": "code",
   "execution_count": 56,
   "id": "f196a69b",
   "metadata": {},
   "outputs": [
    {
     "data": {
      "text/html": [
       "<div>\n",
       "<style scoped>\n",
       "    .dataframe tbody tr th:only-of-type {\n",
       "        vertical-align: middle;\n",
       "    }\n",
       "\n",
       "    .dataframe tbody tr th {\n",
       "        vertical-align: top;\n",
       "    }\n",
       "\n",
       "    .dataframe thead th {\n",
       "        text-align: right;\n",
       "    }\n",
       "</style>\n",
       "<table border=\"1\" class=\"dataframe\">\n",
       "  <thead>\n",
       "    <tr style=\"text-align: right;\">\n",
       "      <th></th>\n",
       "      <th>F</th>\n",
       "    </tr>\n",
       "  </thead>\n",
       "  <tbody>\n",
       "    <tr>\n",
       "      <th>0</th>\n",
       "      <td>0</td>\n",
       "    </tr>\n",
       "    <tr>\n",
       "      <th>1</th>\n",
       "      <td>0</td>\n",
       "    </tr>\n",
       "    <tr>\n",
       "      <th>3</th>\n",
       "      <td>0</td>\n",
       "    </tr>\n",
       "  </tbody>\n",
       "</table>\n",
       "</div>"
      ],
      "text/plain": [
       "   F\n",
       "0  0\n",
       "1  0\n",
       "3  0"
      ]
     },
     "execution_count": 56,
     "metadata": {},
     "output_type": "execute_result"
    }
   ],
   "source": [
    "sex_d.drop(columns='M', inplace =True)\n",
    "sex_d.head(3)"
   ]
  },
  {
   "cell_type": "code",
   "execution_count": 57,
   "id": "5415c602",
   "metadata": {},
   "outputs": [
    {
     "data": {
      "text/html": [
       "<div>\n",
       "<style scoped>\n",
       "    .dataframe tbody tr th:only-of-type {\n",
       "        vertical-align: middle;\n",
       "    }\n",
       "\n",
       "    .dataframe tbody tr th {\n",
       "        vertical-align: top;\n",
       "    }\n",
       "\n",
       "    .dataframe thead th {\n",
       "        text-align: right;\n",
       "    }\n",
       "</style>\n",
       "<table border=\"1\" class=\"dataframe\">\n",
       "  <thead>\n",
       "    <tr style=\"text-align: right;\">\n",
       "      <th></th>\n",
       "      <th>E</th>\n",
       "      <th>F</th>\n",
       "      <th>O</th>\n",
       "    </tr>\n",
       "  </thead>\n",
       "  <tbody>\n",
       "    <tr>\n",
       "      <th>0</th>\n",
       "      <td>1</td>\n",
       "      <td>0</td>\n",
       "      <td>0</td>\n",
       "    </tr>\n",
       "    <tr>\n",
       "      <th>1</th>\n",
       "      <td>1</td>\n",
       "      <td>0</td>\n",
       "      <td>0</td>\n",
       "    </tr>\n",
       "    <tr>\n",
       "      <th>3</th>\n",
       "      <td>0</td>\n",
       "      <td>0</td>\n",
       "      <td>1</td>\n",
       "    </tr>\n",
       "  </tbody>\n",
       "</table>\n",
       "</div>"
      ],
      "text/plain": [
       "   E  F  O\n",
       "0  1  0  0\n",
       "1  1  0  0\n",
       "3  0  0  1"
      ]
     },
     "execution_count": 57,
     "metadata": {},
     "output_type": "execute_result"
    }
   ],
   "source": [
    "lg_d = pd.get_dummies(df['lg.'])\n",
    "lg_d.head(3)"
   ]
  },
  {
   "cell_type": "markdown",
   "id": "80c4374a",
   "metadata": {},
   "source": [
    "the three columns are connected, we can keep the first two column"
   ]
  },
  {
   "cell_type": "code",
   "execution_count": 59,
   "id": "0ae64852",
   "metadata": {},
   "outputs": [
    {
     "name": "stdout",
     "output_type": "stream",
     "text": [
      "E\n",
      "F\n",
      "O\n"
     ]
    }
   ],
   "source": [
    "for col in lg_d:\n",
    "    print(col)"
   ]
  },
  {
   "cell_type": "code",
   "execution_count": 60,
   "id": "f42f51ec",
   "metadata": {},
   "outputs": [
    {
     "data": {
      "text/html": [
       "<div>\n",
       "<style scoped>\n",
       "    .dataframe tbody tr th:only-of-type {\n",
       "        vertical-align: middle;\n",
       "    }\n",
       "\n",
       "    .dataframe tbody tr th {\n",
       "        vertical-align: top;\n",
       "    }\n",
       "\n",
       "    .dataframe thead th {\n",
       "        text-align: right;\n",
       "    }\n",
       "</style>\n",
       "<table border=\"1\" class=\"dataframe\">\n",
       "  <thead>\n",
       "    <tr style=\"text-align: right;\">\n",
       "      <th></th>\n",
       "      <th>const</th>\n",
       "      <th>edu.</th>\n",
       "      <th>age</th>\n",
       "      <th>F</th>\n",
       "      <th>E</th>\n",
       "      <th>F</th>\n",
       "    </tr>\n",
       "  </thead>\n",
       "  <tbody>\n",
       "    <tr>\n",
       "      <th>0</th>\n",
       "      <td>1.0</td>\n",
       "      <td>15.0</td>\n",
       "      <td>40</td>\n",
       "      <td>0</td>\n",
       "      <td>1</td>\n",
       "      <td>0</td>\n",
       "    </tr>\n",
       "    <tr>\n",
       "      <th>1</th>\n",
       "      <td>1.0</td>\n",
       "      <td>13.2</td>\n",
       "      <td>19</td>\n",
       "      <td>0</td>\n",
       "      <td>1</td>\n",
       "      <td>0</td>\n",
       "    </tr>\n",
       "    <tr>\n",
       "      <th>3</th>\n",
       "      <td>1.0</td>\n",
       "      <td>14.0</td>\n",
       "      <td>46</td>\n",
       "      <td>0</td>\n",
       "      <td>0</td>\n",
       "      <td>0</td>\n",
       "    </tr>\n",
       "  </tbody>\n",
       "</table>\n",
       "</div>"
      ],
      "text/plain": [
       "   const  edu.  age  F  E  F\n",
       "0    1.0  15.0   40  0  1  0\n",
       "1    1.0  13.2   19  0  1  0\n",
       "3    1.0  14.0   46  0  0  0"
      ]
     },
     "execution_count": 60,
     "metadata": {},
     "output_type": "execute_result"
    }
   ],
   "source": [
    "X2 = pd.concat([X, sex_d['F'],lg_d[['E','F']]],axis =1)\n",
    "X2.head(3)"
   ]
  },
  {
   "cell_type": "code",
   "execution_count": 61,
   "id": "61c8d20d",
   "metadata": {},
   "outputs": [
    {
     "data": {
      "text/html": [
       "<table class=\"simpletable\">\n",
       "<caption>OLS Regression Results</caption>\n",
       "<tr>\n",
       "  <th>Dep. Variable:</th>          <td>wages</td>      <th>  R-squared:         </th> <td>   0.297</td> \n",
       "</tr>\n",
       "<tr>\n",
       "  <th>Model:</th>                   <td>OLS</td>       <th>  Adj. R-squared:    </th> <td>   0.296</td> \n",
       "</tr>\n",
       "<tr>\n",
       "  <th>Method:</th>             <td>Least Squares</td>  <th>  F-statistic:       </th> <td>   336.8</td> \n",
       "</tr>\n",
       "<tr>\n",
       "  <th>Date:</th>             <td>Sun, 16 Oct 2022</td> <th>  Prob (F-statistic):</th> <td>1.19e-301</td>\n",
       "</tr>\n",
       "<tr>\n",
       "  <th>Time:</th>                 <td>21:46:22</td>     <th>  Log-Likelihood:    </th> <td> -13178.</td> \n",
       "</tr>\n",
       "<tr>\n",
       "  <th>No. Observations:</th>      <td>  3987</td>      <th>  AIC:               </th> <td>2.637e+04</td>\n",
       "</tr>\n",
       "<tr>\n",
       "  <th>Df Residuals:</th>          <td>  3981</td>      <th>  BIC:               </th> <td>2.641e+04</td>\n",
       "</tr>\n",
       "<tr>\n",
       "  <th>Df Model:</th>              <td>     5</td>      <th>                     </th>     <td> </td>    \n",
       "</tr>\n",
       "<tr>\n",
       "  <th>Covariance Type:</th>      <td>nonrobust</td>    <th>                     </th>     <td> </td>    \n",
       "</tr>\n",
       "</table>\n",
       "<table class=\"simpletable\">\n",
       "<tr>\n",
       "    <td></td>       <th>coef</th>     <th>std err</th>      <th>t</th>      <th>P>|t|</th>  <th>[0.025</th>    <th>0.975]</th>  \n",
       "</tr>\n",
       "<tr>\n",
       "  <th>const</th> <td>   -4.2908</td> <td>    0.669</td> <td>   -6.417</td> <td> 0.000</td> <td>   -5.602</td> <td>   -2.980</td>\n",
       "</tr>\n",
       "<tr>\n",
       "  <th>edu.</th>  <td>    0.9166</td> <td>    0.035</td> <td>   26.368</td> <td> 0.000</td> <td>    0.848</td> <td>    0.985</td>\n",
       "</tr>\n",
       "<tr>\n",
       "  <th>age</th>   <td>    0.2551</td> <td>    0.009</td> <td>   29.278</td> <td> 0.000</td> <td>    0.238</td> <td>    0.272</td>\n",
       "</tr>\n",
       "<tr>\n",
       "  <th>F</th>     <td>   -3.4554</td> <td>    0.209</td> <td>  -16.518</td> <td> 0.000</td> <td>   -3.866</td> <td>   -3.045</td>\n",
       "</tr>\n",
       "<tr>\n",
       "  <th>E</th>     <td>   -0.1426</td> <td>    0.325</td> <td>   -0.439</td> <td> 0.661</td> <td>   -0.780</td> <td>    0.495</td>\n",
       "</tr>\n",
       "<tr>\n",
       "  <th>F</th>     <td>   -0.1578</td> <td>    0.509</td> <td>   -0.310</td> <td> 0.757</td> <td>   -1.156</td> <td>    0.840</td>\n",
       "</tr>\n",
       "</table>\n",
       "<table class=\"simpletable\">\n",
       "<tr>\n",
       "  <th>Omnibus:</th>       <td>596.958</td> <th>  Durbin-Watson:     </th> <td>   1.944</td> \n",
       "</tr>\n",
       "<tr>\n",
       "  <th>Prob(Omnibus):</th> <td> 0.000</td>  <th>  Jarque-Bera (JB):  </th> <td>1269.036</td> \n",
       "</tr>\n",
       "<tr>\n",
       "  <th>Skew:</th>          <td> 0.892</td>  <th>  Prob(JB):          </th> <td>2.71e-276</td>\n",
       "</tr>\n",
       "<tr>\n",
       "  <th>Kurtosis:</th>      <td> 5.111</td>  <th>  Cond. No.          </th> <td>    284.</td> \n",
       "</tr>\n",
       "</table><br/><br/>Notes:<br/>[1] Standard Errors assume that the covariance matrix of the errors is correctly specified."
      ],
      "text/plain": [
       "<class 'statsmodels.iolib.summary.Summary'>\n",
       "\"\"\"\n",
       "                            OLS Regression Results                            \n",
       "==============================================================================\n",
       "Dep. Variable:                  wages   R-squared:                       0.297\n",
       "Model:                            OLS   Adj. R-squared:                  0.296\n",
       "Method:                 Least Squares   F-statistic:                     336.8\n",
       "Date:                Sun, 16 Oct 2022   Prob (F-statistic):          1.19e-301\n",
       "Time:                        21:46:22   Log-Likelihood:                -13178.\n",
       "No. Observations:                3987   AIC:                         2.637e+04\n",
       "Df Residuals:                    3981   BIC:                         2.641e+04\n",
       "Df Model:                           5                                         \n",
       "Covariance Type:            nonrobust                                         \n",
       "==============================================================================\n",
       "                 coef    std err          t      P>|t|      [0.025      0.975]\n",
       "------------------------------------------------------------------------------\n",
       "const         -4.2908      0.669     -6.417      0.000      -5.602      -2.980\n",
       "edu.           0.9166      0.035     26.368      0.000       0.848       0.985\n",
       "age            0.2551      0.009     29.278      0.000       0.238       0.272\n",
       "F             -3.4554      0.209    -16.518      0.000      -3.866      -3.045\n",
       "E             -0.1426      0.325     -0.439      0.661      -0.780       0.495\n",
       "F             -0.1578      0.509     -0.310      0.757      -1.156       0.840\n",
       "==============================================================================\n",
       "Omnibus:                      596.958   Durbin-Watson:                   1.944\n",
       "Prob(Omnibus):                  0.000   Jarque-Bera (JB):             1269.036\n",
       "Skew:                           0.892   Prob(JB):                    2.71e-276\n",
       "Kurtosis:                       5.111   Cond. No.                         284.\n",
       "==============================================================================\n",
       "\n",
       "Notes:\n",
       "[1] Standard Errors assume that the covariance matrix of the errors is correctly specified.\n",
       "\"\"\""
      ]
     },
     "execution_count": 61,
     "metadata": {},
     "output_type": "execute_result"
    }
   ],
   "source": [
    "ks2 = sm.OLS(Y, X2)\n",
    "ks2_r = ks2.fit()\n",
    "ks2_r.summary()"
   ]
  },
  {
   "cell_type": "markdown",
   "id": "fd4a247e",
   "metadata": {},
   "source": [
    "## Part 6: Conclusion\n",
    "R Square is improved however still at a low level.\n",
    "Also the P value on English ang French is significant. Which means that the language option is irrevelent to the job on this level\n",
    "As we can see from the statistical analysis above, the linear regression shows a very low P-Value with all numerical variables. Which means that the numerical veriables are having strong relation with Y. \n",
    "However the R Square value shows as 0.297 which means all the parameters only having 29.7% ability to explain Y.\n",
    "To analysis the reasons for getting a relatively R value, I think it could be as follows:\n",
    "- Lack of other important parameters, for example, Industry that person is working in, Location of the company/person, Times of the person changing jobs, etc.\n",
    "- Date the sample data required, if it takes long time to require all sample data while the macroeconomy environment changed during the period, the sample can not reflect the real situation\n",
    "- Chategorical values are not explained into a good quantitiative way.\n",
    "\n",
    "Even though the statistical analysis is showing with a R Square of 0.297, we can still try to plot the data cloud to visualize the data set and see what the data cloud look like.\n",
    "Here in the following I have ploted different figures to show the data relations. "
   ]
  },
  {
   "cell_type": "code",
   "execution_count": 62,
   "id": "7dd4cc73",
   "metadata": {},
   "outputs": [
    {
     "data": {
      "text/plain": [
       "<seaborn.axisgrid.PairGrid at 0x1d3d59da1c0>"
      ]
     },
     "execution_count": 62,
     "metadata": {},
     "output_type": "execute_result"
    },
    {
     "data": {
      "image/png": "[encoded data removed]",
      "text/plain": [
       "<Figure size 540x540 with 12 Axes>"
      ]
     },
     "metadata": {},
     "output_type": "display_data"
    }
   ],
   "source": [
    "import seaborn as sns\n",
    "sns.pairplot(X)"
   ]
  },
  {
   "cell_type": "code",
   "execution_count": 63,
   "id": "3131e4a8",
   "metadata": {},
   "outputs": [
    {
     "data": {
      "text/html": [
       "<div>\n",
       "<style scoped>\n",
       "    .dataframe tbody tr th:only-of-type {\n",
       "        vertical-align: middle;\n",
       "    }\n",
       "\n",
       "    .dataframe tbody tr th {\n",
       "        vertical-align: top;\n",
       "    }\n",
       "\n",
       "    .dataframe thead th {\n",
       "        text-align: right;\n",
       "    }\n",
       "</style>\n",
       "<table border=\"1\" class=\"dataframe\">\n",
       "  <thead>\n",
       "    <tr style=\"text-align: right;\">\n",
       "      <th></th>\n",
       "      <th>No.</th>\n",
       "      <th>wages</th>\n",
       "      <th>edu.</th>\n",
       "      <th>age</th>\n",
       "    </tr>\n",
       "  </thead>\n",
       "  <tbody>\n",
       "    <tr>\n",
       "      <th>No.</th>\n",
       "      <td>1.00</td>\n",
       "      <td>0.01</td>\n",
       "      <td>-0.04</td>\n",
       "      <td>-0.00</td>\n",
       "    </tr>\n",
       "    <tr>\n",
       "      <th>wages</th>\n",
       "      <td>0.01</td>\n",
       "      <td>1.00</td>\n",
       "      <td>0.31</td>\n",
       "      <td>0.36</td>\n",
       "    </tr>\n",
       "    <tr>\n",
       "      <th>edu.</th>\n",
       "      <td>-0.04</td>\n",
       "      <td>0.31</td>\n",
       "      <td>1.00</td>\n",
       "      <td>-0.11</td>\n",
       "    </tr>\n",
       "    <tr>\n",
       "      <th>age</th>\n",
       "      <td>-0.00</td>\n",
       "      <td>0.36</td>\n",
       "      <td>-0.11</td>\n",
       "      <td>1.00</td>\n",
       "    </tr>\n",
       "  </tbody>\n",
       "</table>\n",
       "</div>"
      ],
      "text/plain": [
       "        No.  wages  edu.   age\n",
       "No.    1.00   0.01 -0.04 -0.00\n",
       "wages  0.01   1.00  0.31  0.36\n",
       "edu.  -0.04   0.31  1.00 -0.11\n",
       "age   -0.00   0.36 -0.11  1.00"
      ]
     },
     "execution_count": 63,
     "metadata": {},
     "output_type": "execute_result"
    }
   ],
   "source": [
    "round(df.corr(),2)"
   ]
  },
  {
   "cell_type": "code",
   "execution_count": 64,
   "id": "c448e526",
   "metadata": {},
   "outputs": [
    {
     "name": "stderr",
     "output_type": "stream",
     "text": [
      "C:\\Users\\Jiuge\\anaconda3\\lib\\site-packages\\seaborn\\distributions.py:2619: FutureWarning: `distplot` is a deprecated function and will be removed in a future version. Please adapt your code to use either `displot` (a figure-level function with similar flexibility) or `histplot` (an axes-level function for histograms).\n",
      "  warnings.warn(msg, FutureWarning)\n"
     ]
    },
    {
     "data": {
      "image/png": "[encoded data removed]",
      "text/plain": [
       "<Figure size 432x288 with 1 Axes>"
      ]
     },
     "metadata": {},
     "output_type": "display_data"
    }
   ],
   "source": [
    "from scipy import stats\n",
    "sns.distplot(ks2_r.resid, fit=stats.norm);"
   ]
  },
  {
   "cell_type": "markdown",
   "id": "5f66e7e3",
   "metadata": {},
   "source": [
    "As we can see that 'French' is having a significant p-value. so we try to drop the colum and check the OLS result again"
   ]
  },
  {
   "cell_type": "code",
   "execution_count": 65,
   "id": "37fb0a37",
   "metadata": {},
   "outputs": [
    {
     "name": "stderr",
     "output_type": "stream",
     "text": [
      "C:\\Users\\Jiuge\\anaconda3\\lib\\site-packages\\seaborn\\_decorators.py:36: FutureWarning: Pass the following variable as a keyword arg: x. From version 0.12, the only valid positional argument will be `data`, and passing other arguments without an explicit keyword will result in an error or misinterpretation.\n",
      "  warnings.warn(\n"
     ]
    },
    {
     "data": {
      "image/png": "[encoded data removed]",
      "text/plain": [
       "<Figure size 432x288 with 1 Axes>"
      ]
     },
     "metadata": {},
     "output_type": "display_data"
    }
   ],
   "source": [
    "sns.boxplot(ks2_r.resid, showmeans=True);"
   ]
  },
  {
   "cell_type": "code",
   "execution_count": 66,
   "id": "4d0aecba",
   "metadata": {},
   "outputs": [
    {
     "data": {
      "image/png": "[encoded data removed]",
      "text/plain": [
       "<Figure size 432x288 with 1 Axes>"
      ]
     },
     "metadata": {},
     "output_type": "display_data"
    }
   ],
   "source": [
    "sm.qqplot(ks2_r.resid, line='s');"
   ]
  },
  {
   "cell_type": "code",
   "execution_count": 67,
   "id": "abd0e226",
   "metadata": {},
   "outputs": [
    {
     "name": "stderr",
     "output_type": "stream",
     "text": [
      "C:\\Users\\Jiuge\\anaconda3\\lib\\site-packages\\seaborn\\_decorators.py:36: FutureWarning: Pass the following variables as keyword args: x, y. From version 0.12, the only valid positional argument will be `data`, and passing other arguments without an explicit keyword will result in an error or misinterpretation.\n",
      "  warnings.warn(\n"
     ]
    },
    {
     "data": {
      "image/png": "[encoded data removed]",
      "text/plain": [
       "<Figure size 432x288 with 1 Axes>"
      ]
     },
     "metadata": {},
     "output_type": "display_data"
    }
   ],
   "source": [
    "Y_max = Y.max()\n",
    "Y_min = Y.min()\n",
    "\n",
    "ax = sns.scatterplot(ks2_r.fittedvalues, Y)\n",
    "ax.set(ylim=(Y_min, Y_max))\n",
    "ax.set(xlim=(Y_min, Y_max))\n",
    "ax.set_xlabel(\"Predicted value of Wage\")\n",
    "ax.set_ylabel(\"Observed value of Wage\")\n",
    "\n",
    "X_ref = Y_ref = np.linspace(Y_min, Y_max, 100)\n",
    "plt.plot(X_ref, Y_ref, color='red', linewidth=1)\n",
    "plt.show()"
   ]
  }
 ],
 "metadata": {
  "kernelspec": {
   "display_name": "Python 3 (ipykernel)",
   "language": "python",
   "name": "python3"
  },
  "language_info": {
   "codemirror_mode": {
    "name": "ipython",
    "version": 3
   },
   "file_extension": ".py",
   "mimetype": "text/x-python",
   "name": "python",
   "nbconvert_exporter": "python",
   "pygments_lexer": "ipython3",
   "version": "3.9.12"
  }
 },
 "nbformat": 4,
 "nbformat_minor": 5
}
